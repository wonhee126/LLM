{
 "cells": [
  {
   "cell_type": "markdown",
   "id": "51fd9159-e8ba-477b-9b20-a22438307df1",
   "metadata": {
    "id": "51fd9159-e8ba-477b-9b20-a22438307df1"
   },
   "source": [
    "## **PDF Loaders**"
   ]
  },
  {
   "cell_type": "markdown",
   "id": "4d8476f5-73b4-419f-9741-a2d95f9d5263",
   "metadata": {
    "id": "4d8476f5-73b4-419f-9741-a2d95f9d5263"
   },
   "source": [
    "### **PyPDF Loader**"
   ]
  },
  {
   "cell_type": "code",
   "execution_count": 3,
   "id": "a8881f65-2250-45e7-b4f1-300b32db09db",
   "metadata": {},
   "outputs": [
    {
     "name": "stdout",
     "output_type": "stream",
     "text": [
      "Requirement already satisfied: langchain in c:\\users\\juwonhee\\anaconda3\\lib\\site-packages (0.3.26)\n",
      "Collecting langchain-community\n",
      "  Downloading langchain_community-0.3.26-py3-none-any.whl.metadata (2.9 kB)\n",
      "Collecting pypdf\n",
      "  Using cached pypdf-5.6.1-py3-none-any.whl.metadata (7.2 kB)\n",
      "Requirement already satisfied: langchain-core<1.0.0,>=0.3.66 in c:\\users\\juwonhee\\anaconda3\\lib\\site-packages (from langchain) (0.3.66)\n",
      "Requirement already satisfied: langchain-text-splitters<1.0.0,>=0.3.8 in c:\\users\\juwonhee\\anaconda3\\lib\\site-packages (from langchain) (0.3.8)\n",
      "Requirement already satisfied: langsmith>=0.1.17 in c:\\users\\juwonhee\\anaconda3\\lib\\site-packages (from langchain) (0.4.1)\n",
      "Requirement already satisfied: pydantic<3.0.0,>=2.7.4 in c:\\users\\juwonhee\\anaconda3\\lib\\site-packages (from langchain) (2.8.2)\n",
      "Requirement already satisfied: SQLAlchemy<3,>=1.4 in c:\\users\\juwonhee\\anaconda3\\lib\\site-packages (from langchain) (2.0.34)\n",
      "Requirement already satisfied: requests<3,>=2 in c:\\users\\juwonhee\\anaconda3\\lib\\site-packages (from langchain) (2.32.3)\n",
      "Requirement already satisfied: PyYAML>=5.3 in c:\\users\\juwonhee\\anaconda3\\lib\\site-packages (from langchain) (6.0.1)\n",
      "Requirement already satisfied: aiohttp<4.0.0,>=3.8.3 in c:\\users\\juwonhee\\anaconda3\\lib\\site-packages (from langchain-community) (3.10.5)\n",
      "Requirement already satisfied: tenacity!=8.4.0,<10,>=8.1.0 in c:\\users\\juwonhee\\anaconda3\\lib\\site-packages (from langchain-community) (8.2.3)\n",
      "Collecting dataclasses-json<0.7,>=0.5.7 (from langchain-community)\n",
      "  Using cached dataclasses_json-0.6.7-py3-none-any.whl.metadata (25 kB)\n",
      "Collecting pydantic-settings<3.0.0,>=2.4.0 (from langchain-community)\n",
      "  Downloading pydantic_settings-2.10.0-py3-none-any.whl.metadata (3.4 kB)\n",
      "Collecting httpx-sse<1.0.0,>=0.4.0 (from langchain-community)\n",
      "  Downloading httpx_sse-0.4.0-py3-none-any.whl.metadata (9.0 kB)\n",
      "Requirement already satisfied: numpy>=1.26.2 in c:\\users\\juwonhee\\anaconda3\\lib\\site-packages (from langchain-community) (1.26.4)\n",
      "Requirement already satisfied: aiohappyeyeballs>=2.3.0 in c:\\users\\juwonhee\\anaconda3\\lib\\site-packages (from aiohttp<4.0.0,>=3.8.3->langchain-community) (2.4.0)\n",
      "Requirement already satisfied: aiosignal>=1.1.2 in c:\\users\\juwonhee\\anaconda3\\lib\\site-packages (from aiohttp<4.0.0,>=3.8.3->langchain-community) (1.2.0)\n",
      "Requirement already satisfied: attrs>=17.3.0 in c:\\users\\juwonhee\\anaconda3\\lib\\site-packages (from aiohttp<4.0.0,>=3.8.3->langchain-community) (23.1.0)\n",
      "Requirement already satisfied: frozenlist>=1.1.1 in c:\\users\\juwonhee\\anaconda3\\lib\\site-packages (from aiohttp<4.0.0,>=3.8.3->langchain-community) (1.4.0)\n",
      "Requirement already satisfied: multidict<7.0,>=4.5 in c:\\users\\juwonhee\\anaconda3\\lib\\site-packages (from aiohttp<4.0.0,>=3.8.3->langchain-community) (6.0.4)\n",
      "Requirement already satisfied: yarl<2.0,>=1.0 in c:\\users\\juwonhee\\anaconda3\\lib\\site-packages (from aiohttp<4.0.0,>=3.8.3->langchain-community) (1.11.0)\n",
      "Collecting marshmallow<4.0.0,>=3.18.0 (from dataclasses-json<0.7,>=0.5.7->langchain-community)\n",
      "  Downloading marshmallow-3.26.1-py3-none-any.whl.metadata (7.3 kB)\n",
      "Collecting typing-inspect<1,>=0.4.0 (from dataclasses-json<0.7,>=0.5.7->langchain-community)\n",
      "  Using cached typing_inspect-0.9.0-py3-none-any.whl.metadata (1.5 kB)\n",
      "Requirement already satisfied: jsonpatch<2.0,>=1.33 in c:\\users\\juwonhee\\anaconda3\\lib\\site-packages (from langchain-core<1.0.0,>=0.3.66->langchain) (1.33)\n",
      "Requirement already satisfied: packaging<25,>=23.2 in c:\\users\\juwonhee\\anaconda3\\lib\\site-packages (from langchain-core<1.0.0,>=0.3.66->langchain) (24.1)\n",
      "Requirement already satisfied: typing-extensions>=4.7 in c:\\users\\juwonhee\\anaconda3\\lib\\site-packages (from langchain-core<1.0.0,>=0.3.66->langchain) (4.14.0)\n",
      "Requirement already satisfied: httpx<1,>=0.23.0 in c:\\users\\juwonhee\\anaconda3\\lib\\site-packages (from langsmith>=0.1.17->langchain) (0.28.1)\n",
      "Requirement already satisfied: orjson<4.0.0,>=3.9.14 in c:\\users\\juwonhee\\anaconda3\\lib\\site-packages (from langsmith>=0.1.17->langchain) (3.10.18)\n",
      "Requirement already satisfied: requests-toolbelt<2.0.0,>=1.0.0 in c:\\users\\juwonhee\\anaconda3\\lib\\site-packages (from langsmith>=0.1.17->langchain) (1.0.0)\n",
      "Requirement already satisfied: zstandard<0.24.0,>=0.23.0 in c:\\users\\juwonhee\\anaconda3\\lib\\site-packages (from langsmith>=0.1.17->langchain) (0.23.0)\n",
      "Requirement already satisfied: annotated-types>=0.4.0 in c:\\users\\juwonhee\\anaconda3\\lib\\site-packages (from pydantic<3.0.0,>=2.7.4->langchain) (0.6.0)\n",
      "Requirement already satisfied: pydantic-core==2.20.1 in c:\\users\\juwonhee\\anaconda3\\lib\\site-packages (from pydantic<3.0.0,>=2.7.4->langchain) (2.20.1)\n",
      "Requirement already satisfied: python-dotenv>=0.21.0 in c:\\users\\juwonhee\\anaconda3\\lib\\site-packages (from pydantic-settings<3.0.0,>=2.4.0->langchain-community) (0.21.0)\n",
      "Collecting typing-inspection>=0.4.0 (from pydantic-settings<3.0.0,>=2.4.0->langchain-community)\n",
      "  Using cached typing_inspection-0.4.1-py3-none-any.whl.metadata (2.6 kB)\n",
      "Requirement already satisfied: charset-normalizer<4,>=2 in c:\\users\\juwonhee\\anaconda3\\lib\\site-packages (from requests<3,>=2->langchain) (3.3.2)\n",
      "Requirement already satisfied: idna<4,>=2.5 in c:\\users\\juwonhee\\anaconda3\\lib\\site-packages (from requests<3,>=2->langchain) (2.10)\n",
      "Requirement already satisfied: urllib3<3,>=1.21.1 in c:\\users\\juwonhee\\anaconda3\\lib\\site-packages (from requests<3,>=2->langchain) (2.2.3)\n",
      "Requirement already satisfied: certifi>=2017.4.17 in c:\\users\\juwonhee\\anaconda3\\lib\\site-packages (from requests<3,>=2->langchain) (2024.8.30)\n",
      "Requirement already satisfied: greenlet!=0.4.17 in c:\\users\\juwonhee\\anaconda3\\lib\\site-packages (from SQLAlchemy<3,>=1.4->langchain) (3.0.1)\n",
      "Requirement already satisfied: anyio in c:\\users\\juwonhee\\anaconda3\\lib\\site-packages (from httpx<1,>=0.23.0->langsmith>=0.1.17->langchain) (4.2.0)\n",
      "Requirement already satisfied: httpcore==1.* in c:\\users\\juwonhee\\anaconda3\\lib\\site-packages (from httpx<1,>=0.23.0->langsmith>=0.1.17->langchain) (1.0.9)\n",
      "Requirement already satisfied: h11>=0.16 in c:\\users\\juwonhee\\anaconda3\\lib\\site-packages (from httpcore==1.*->httpx<1,>=0.23.0->langsmith>=0.1.17->langchain) (0.16.0)\n",
      "Requirement already satisfied: jsonpointer>=1.9 in c:\\users\\juwonhee\\anaconda3\\lib\\site-packages (from jsonpatch<2.0,>=1.33->langchain-core<1.0.0,>=0.3.66->langchain) (2.1)\n",
      "Requirement already satisfied: mypy-extensions>=0.3.0 in c:\\users\\juwonhee\\anaconda3\\lib\\site-packages (from typing-inspect<1,>=0.4.0->dataclasses-json<0.7,>=0.5.7->langchain-community) (1.0.0)\n",
      "Requirement already satisfied: sniffio>=1.1 in c:\\users\\juwonhee\\anaconda3\\lib\\site-packages (from anyio->httpx<1,>=0.23.0->langsmith>=0.1.17->langchain) (1.3.0)\n",
      "Downloading langchain_community-0.3.26-py3-none-any.whl (2.5 MB)\n",
      "   ---------------------------------------- 0.0/2.5 MB ? eta -:--:--\n",
      "   ------------------------------------- -- 2.4/2.5 MB 12.2 MB/s eta 0:00:01\n",
      "   ---------------------------------------- 2.5/2.5 MB 9.7 MB/s eta 0:00:00\n",
      "Using cached pypdf-5.6.1-py3-none-any.whl (304 kB)\n",
      "Using cached dataclasses_json-0.6.7-py3-none-any.whl (28 kB)\n",
      "Downloading httpx_sse-0.4.0-py3-none-any.whl (7.8 kB)\n",
      "Downloading pydantic_settings-2.10.0-py3-none-any.whl (45 kB)\n",
      "Downloading marshmallow-3.26.1-py3-none-any.whl (50 kB)\n",
      "Using cached typing_inspect-0.9.0-py3-none-any.whl (8.8 kB)\n",
      "Using cached typing_inspection-0.4.1-py3-none-any.whl (14 kB)\n",
      "Installing collected packages: typing-inspection, typing-inspect, pypdf, marshmallow, httpx-sse, dataclasses-json, pydantic-settings, langchain-community\n",
      "Successfully installed dataclasses-json-0.6.7 httpx-sse-0.4.0 langchain-community-0.3.26 marshmallow-3.26.1 pydantic-settings-2.10.0 pypdf-5.6.1 typing-inspect-0.9.0 typing-inspection-0.4.1\n"
     ]
    }
   ],
   "source": [
    "import sys\n",
    "!{sys.executable} -m pip install langchain langchain-community pypdf"
   ]
  },
  {
   "cell_type": "markdown",
   "id": "2ad7618e-ecf1-4c0c-a057-1144943e1396",
   "metadata": {
    "id": "2ad7618e-ecf1-4c0c-a057-1144943e1396"
   },
   "source": [
    "**[이미지+텍스트 페이지 내 텍스트 추출]**"
   ]
  },
  {
   "cell_type": "code",
   "execution_count": 15,
   "id": "05a1267b-b6d8-4219-a26f-d7cc7ceaf432",
   "metadata": {},
   "outputs": [
    {
     "name": "stdout",
     "output_type": "stream",
     "text": [
      "| 6 | CIS이슈리포트 2022-2호 \n",
      "▶(주요품목① : 5G 이동통신) 정보통신 테마 내 기술분야 중 혁신성장 정책금융 공급규모가 가장 큰 차세대무선통신미디어 분야의 경우 4G/5G 기술품목의 정책금융 공급 비중이 가장 높은 것으로 확인됨[차세대무선통신미디어 분야 내 기술품목별 혁신성장 정책금융 공급액 추이](단위: 억 원)\n",
      "▶5G 이동통신 시스템은 ITU(International Telecommunication Union)가 정의한 5세대 이동통신 규격을 만족시키는 무선 이동통신 네트워크 기술로, 2019년부터 국내 서비스를 시작함￮4G 이동통신 시스템(LTE)과 비교할 때 전송속도의 향상(1Gbps→20Gbps), 이동성 향상(350km/h→500km/h에서 끊김없는 데이터 전송 가능), 최대 연결가능 기기수 증가(10만 대 →100만 대 이상), 데이터 전송지연 감소(10ms→1ms) 등의 향상된 기능을 제공함￮5G는 전송속도 향상, 다수기기 접속 및 지연시간 단축을 위해 ①밀리미터파 통신이 가능한 주파수 확장, ②스몰셀(Small cell)을 도입한 기지국, ③다중안테나 송수신(Massive MIMO), ④네트워크 슬라이싱(Network Slicing) 등의 기술을 도입함[5G 주요 요소기술 특징]\n",
      "자료: 삼정 KPMG\n"
     ]
    }
   ],
   "source": [
    "from langchain.document_loaders import PyPDFLoader\n",
    "\n",
    "filename = \"../data/[이슈리포트 2022-2호] 혁신성장 정책금융 동향.pdf\"\n",
    "loader = PyPDFLoader(filename)\n",
    "\n",
    "pages = loader.load_and_split()\n",
    "print(pages[5].page_content)"
   ]
  },
  {
   "cell_type": "markdown",
   "id": "ae9af824-f25b-473c-93e2-8ca6ce8983e9",
   "metadata": {
    "id": "ae9af824-f25b-473c-93e2-8ca6ce8983e9"
   },
   "source": [
    "**[OCR 기능 활용하여 이미지-텍스트 혼합 페이지 내 텍스트 추출하기]**"
   ]
  },
  {
   "cell_type": "code",
   "execution_count": 6,
   "id": "c68bdbf8-8722-40a9-90f2-77464a89e46c",
   "metadata": {
    "id": "c68bdbf8-8722-40a9-90f2-77464a89e46c"
   },
   "outputs": [
    {
     "name": "stdout",
     "output_type": "stream",
     "text": [
      "Collecting rapidocr-onnxruntime\n",
      "  Using cached rapidocr_onnxruntime-1.4.4-py3-none-any.whl.metadata (1.3 kB)\n",
      "Collecting pyclipper>=1.2.0 (from rapidocr-onnxruntime)\n",
      "  Downloading pyclipper-1.3.0.post6-cp312-cp312-win_amd64.whl.metadata (9.2 kB)\n",
      "Collecting opencv-python>=4.5.1.48 (from rapidocr-onnxruntime)\n",
      "  Using cached opencv_python-4.11.0.86-cp37-abi3-win_amd64.whl.metadata (20 kB)\n",
      "Requirement already satisfied: numpy<3.0.0,>=1.19.5 in c:\\users\\juwonhee\\anaconda3\\lib\\site-packages (from rapidocr-onnxruntime) (1.26.4)\n",
      "Requirement already satisfied: six>=1.15.0 in c:\\users\\juwonhee\\anaconda3\\lib\\site-packages (from rapidocr-onnxruntime) (1.16.0)\n",
      "Collecting Shapely!=2.0.4,>=1.7.1 (from rapidocr-onnxruntime)\n",
      "  Downloading shapely-2.1.1-cp312-cp312-win_amd64.whl.metadata (7.0 kB)\n",
      "Requirement already satisfied: PyYAML in c:\\users\\juwonhee\\anaconda3\\lib\\site-packages (from rapidocr-onnxruntime) (6.0.1)\n",
      "Requirement already satisfied: Pillow in c:\\users\\juwonhee\\anaconda3\\lib\\site-packages (from rapidocr-onnxruntime) (10.4.0)\n",
      "Collecting onnxruntime>=1.7.0 (from rapidocr-onnxruntime)\n",
      "  Downloading onnxruntime-1.22.0-cp312-cp312-win_amd64.whl.metadata (5.0 kB)\n",
      "Requirement already satisfied: tqdm in c:\\users\\juwonhee\\anaconda3\\lib\\site-packages (from rapidocr-onnxruntime) (4.66.5)\n",
      "Collecting coloredlogs (from onnxruntime>=1.7.0->rapidocr-onnxruntime)\n",
      "  Using cached coloredlogs-15.0.1-py2.py3-none-any.whl.metadata (12 kB)\n",
      "Requirement already satisfied: flatbuffers in c:\\users\\juwonhee\\anaconda3\\lib\\site-packages (from onnxruntime>=1.7.0->rapidocr-onnxruntime) (25.2.10)\n",
      "Requirement already satisfied: packaging in c:\\users\\juwonhee\\anaconda3\\lib\\site-packages (from onnxruntime>=1.7.0->rapidocr-onnxruntime) (24.1)\n",
      "Requirement already satisfied: protobuf in c:\\users\\juwonhee\\anaconda3\\lib\\site-packages (from onnxruntime>=1.7.0->rapidocr-onnxruntime) (4.25.3)\n",
      "Requirement already satisfied: sympy in c:\\users\\juwonhee\\anaconda3\\lib\\site-packages (from onnxruntime>=1.7.0->rapidocr-onnxruntime) (1.13.2)\n",
      "Requirement already satisfied: colorama in c:\\users\\juwonhee\\anaconda3\\lib\\site-packages (from tqdm->rapidocr-onnxruntime) (0.4.6)\n",
      "Collecting humanfriendly>=9.1 (from coloredlogs->onnxruntime>=1.7.0->rapidocr-onnxruntime)\n",
      "  Using cached humanfriendly-10.0-py2.py3-none-any.whl.metadata (9.2 kB)\n",
      "Requirement already satisfied: mpmath<1.4,>=1.1.0 in c:\\users\\juwonhee\\anaconda3\\lib\\site-packages (from sympy->onnxruntime>=1.7.0->rapidocr-onnxruntime) (1.3.0)\n",
      "Collecting pyreadline3 (from humanfriendly>=9.1->coloredlogs->onnxruntime>=1.7.0->rapidocr-onnxruntime)\n",
      "  Using cached pyreadline3-3.5.4-py3-none-any.whl.metadata (4.7 kB)\n",
      "Using cached rapidocr_onnxruntime-1.4.4-py3-none-any.whl (14.9 MB)\n",
      "Downloading onnxruntime-1.22.0-cp312-cp312-win_amd64.whl (12.7 MB)\n",
      "   ---------------------------------------- 0.0/12.7 MB ? eta -:--:--\n",
      "   -------- ------------------------------- 2.6/12.7 MB 12.5 MB/s eta 0:00:01\n",
      "   ---------------- ----------------------- 5.2/12.7 MB 12.2 MB/s eta 0:00:01\n",
      "   ------------------------ --------------- 7.9/12.7 MB 12.5 MB/s eta 0:00:01\n",
      "   --------------------------------- ------ 10.5/12.7 MB 12.6 MB/s eta 0:00:01\n",
      "   ---------------------------------------  12.6/12.7 MB 11.8 MB/s eta 0:00:01\n",
      "   ---------------------------------------- 12.7/12.7 MB 11.5 MB/s eta 0:00:00\n",
      "Using cached opencv_python-4.11.0.86-cp37-abi3-win_amd64.whl (39.5 MB)\n",
      "Downloading pyclipper-1.3.0.post6-cp312-cp312-win_amd64.whl (110 kB)\n",
      "Downloading shapely-2.1.1-cp312-cp312-win_amd64.whl (1.7 MB)\n",
      "   ---------------------------------------- 0.0/1.7 MB ? eta -:--:--\n",
      "   ---------------------------------------- 1.7/1.7 MB 10.2 MB/s eta 0:00:00\n",
      "Using cached coloredlogs-15.0.1-py2.py3-none-any.whl (46 kB)\n",
      "Using cached humanfriendly-10.0-py2.py3-none-any.whl (86 kB)\n",
      "Using cached pyreadline3-3.5.4-py3-none-any.whl (83 kB)\n",
      "Installing collected packages: pyclipper, Shapely, pyreadline3, opencv-python, humanfriendly, coloredlogs, onnxruntime, rapidocr-onnxruntime\n",
      "Successfully installed Shapely-2.1.1 coloredlogs-15.0.1 humanfriendly-10.0 onnxruntime-1.22.0 opencv-python-4.11.0.86 pyclipper-1.3.0.post6 pyreadline3-3.5.4 rapidocr-onnxruntime-1.4.4\n"
     ]
    }
   ],
   "source": [
    "# #OCR기능 위해 설치\n",
    "import sys\n",
    "!{sys.executable} -m pip install rapidocr-onnxruntime\n",
    "# !pip install rapidocr-onnxruntime"
   ]
  },
  {
   "cell_type": "code",
   "execution_count": 7,
   "id": "be08e923-c8dd-403e-b69e-f0074c7dcc2b",
   "metadata": {
    "id": "be08e923-c8dd-403e-b69e-f0074c7dcc2b"
   },
   "outputs": [
    {
     "name": "stdout",
     "output_type": "stream",
     "text": [
      "| 6 | CIS이슈리포트 2022-2호 \n",
      "▶(주요품목① : 5G 이동통신) 정보통신 테마 내 기술분야 중 혁신성장 정책금융 공급규모가 가장 큰 차세대무선통신미디어 분야의 경우 4G/5G 기술품목의 정책금융 공급 비중이 가장 높은 것으로 확인됨[차세대무선통신미디어 분야 내 기술품목별 혁신성장 정책금융 공급액 추이](단위: 억 원)\n",
      "▶5G 이동통신 시스템은 ITU(International Telecommunication Union)가 정의한 5세대 이동통신 규격을 만족시키는 무선 이동통신 네트워크 기술로, 2019년부터 국내 서비스를 시작함￮4G 이동통신 시스템(LTE)과 비교할 때 전송속도의 향상(1Gbps→20Gbps), 이동성 향상(350km/h→500km/h에서 끊김없는 데이터 전송 가능), 최대 연결가능 기기수 증가(10만 대 →100만 대 이상), 데이터 전송지연 감소(10ms→1ms) 등의 향상된 기능을 제공함￮5G는 전송속도 향상, 다수기기 접속 및 지연시간 단축을 위해 ①밀리미터파 통신이 가능한 주파수 확장, ②스몰셀(Small cell)을 도입한 기지국, ③다중안테나 송수신(Massive MIMO), ④네트워크 슬라이싱(Network Slicing) 등의 기술을 도입함[5G 주요 요소기술 특징]\n",
      "자료: 삼정 KPMG\n"
     ]
    }
   ],
   "source": [
    "#PyPDFLoader 불러오기\n",
    "from langchain.document_loaders import PyPDFLoader\n",
    "\n",
    "# PDF파일 불러올 객체 PyPDFLoader 선언(extract_images 매개변수로 OCR 수행)\n",
    "loader = PyPDFLoader(filename, extract_images=True)\n",
    "\n",
    "# PDF파일 로드 및 페이지별로 자르기\n",
    "pages = loader.load_and_split()\n",
    "print(pages[5].page_content)"
   ]
  },
  {
   "cell_type": "markdown",
   "id": "ee45f1ad-3e43-4573-803c-a778ea6c4f3b",
   "metadata": {
    "id": "ee45f1ad-3e43-4573-803c-a778ea6c4f3b"
   },
   "source": [
    "**[페이지 내 테이블 추출하기]**"
   ]
  },
  {
   "cell_type": "code",
   "execution_count": 8,
   "id": "5952aae1-ad13-403c-8a97-798b8977a166",
   "metadata": {
    "id": "5952aae1-ad13-403c-8a97-798b8977a166"
   },
   "outputs": [
    {
     "name": "stdout",
     "output_type": "stream",
     "text": [
      "page_content='| 4 | CIS이슈리포트 2022-2호 \n",
      "[혁신성장 ICT 산업 정책금융 공급 현황]                                                            (단위: 억 원, 괄호는 점유율 %)구분2017년 말2018년 말2019년 말2020년 말2021년 말혁신성장 ICT 산업45,075 72,799 81,805 139,687 169,089 (18.7)(20.7)(18.5)(20.3)(19.8)정보통신15,658 27,417 39,033 65,324 77,750 (6.5)(7.8)(8.8)(9.5)(9.1)전기전자26,637 38,521 35,922 62,856 77,485 (11.1)(10.9)(8.1)(9.1)(9.1)센서측정2,780 6,861 6,851 11,506 13,854 (1.2)(1.9)(1.5)(1.7)(1.6)혁신성장 정책금융 총 공급액240,787 351,987 443,180 688,409 854,338 3. 정보통신 테마 혁신성장 정책금융 현황 및 관련 산업 동향▶(지원 현황) 정보통신 테마를 구성하는 기술분야별 정책금융 지원 현황 분석결과, 공급점유율 관점에서는 차세대무선통신미디어 분야에 가장 많은 정책자금이 투입 되고 있으며, 공급량 증가율 관점에서는 능동형컴퓨팅 분야로의 정책자금 지원 증가 속도가 가장 빠른 추세임￮차세대무선통신미디어란 전송속도 향상, 소모전력 절감, 고속이동 중 끊김없는 통신 등 새로운 무선환경에 필요한 통신, 인프라 및 서비스 기술을 통칭하며, 4G/5G/6G, 사물인터넷, 방송통신인프라 등의 품목으로 구성됨-정보통신 테마 내 혁신성장 정책금융 공급 규모의 약 50%를 점유하고 있으며, 이는 초연결 미래사회를 구축하기 위해 네트워크 기반 기술 사업화에 대한 정책자금 공급이 꾸준함에 따른 것으로 분석됨￮능동형컴퓨팅이란 거대하고 복잡해지는 데이터의 효율적 가공과 관리를 위한 인간두뇌와 유사한 형태의 정보처리기술을 말하며, 인공지능, 상황인지컴퓨팅 등의 품목으로 구성됨-컴퓨팅 기술을 활용한 다양한 사업화가 활발히 진행되고 있어 혁신성장 정책금융 공급 규모가 매년 약 100% 수준으로 증가하고 있으며, 새정부의 ‘미래 먹거리산업 신성장 전략추진*’에 따라 인공지능 관련 기술로의 금융지원이 늘어날 것으로 전망됨       * 에너지, 방산, 우주항공, 인공지능(AI), 바이오, 탄소중립 대응, 스마트농업을 차세대 6대 먹거리 산업으로 선정' metadata={'producer': 'Hancom PDF 1.3.0.538', 'creator': 'Hancom PDF 1.3.0.538', 'creationdate': '2022-07-29T09:03:16+09:00', 'author': 'kmd kdy', 'moddate': '2022-07-29T09:03:16+09:00', 'pdfversion': '1.4', 'source': '../data/[이슈리포트 2022-2호] 혁신성장 정책금융 동향.pdf', 'total_pages': 18, 'page': 3, 'page_label': '4'}\n"
     ]
    }
   ],
   "source": [
    "#PyPDFLoader 불러오기\n",
    "from langchain.document_loaders import PyPDFLoader\n",
    "\n",
    "# PDF파일 불러올 객체 PyPDFLoader 선언\n",
    "loader = PyPDFLoader(filename)\n",
    "\n",
    "# PDF파일 로드 및 페이지별로 자르기\n",
    "pages = loader.load_and_split()\n",
    "print(pages[3])"
   ]
  },
  {
   "cell_type": "markdown",
   "id": "9a1810c5-ca25-48cf-9714-bbf59029d205",
   "metadata": {
    "id": "9a1810c5-ca25-48cf-9714-bbf59029d205"
   },
   "source": [
    "### **PyPDFium2**"
   ]
  },
  {
   "cell_type": "markdown",
   "id": "e381093d-0740-44db-9166-6f944803eaef",
   "metadata": {
    "id": "e381093d-0740-44db-9166-6f944803eaef"
   },
   "source": [
    "**[이미지+텍스트 페이지 내 텍스트 추출]**"
   ]
  },
  {
   "cell_type": "code",
   "execution_count": 9,
   "id": "a57e532a-ca50-463d-b2f9-8bf5c4b91e4b",
   "metadata": {
    "id": "a57e532a-ca50-463d-b2f9-8bf5c4b91e4b"
   },
   "outputs": [
    {
     "name": "stdout",
     "output_type": "stream",
     "text": [
      "Collecting pypdfium2\n",
      "  Using cached pypdfium2-4.30.1-py3-none-win_amd64.whl.metadata (48 kB)\n",
      "Using cached pypdfium2-4.30.1-py3-none-win_amd64.whl (3.0 MB)\n",
      "Installing collected packages: pypdfium2\n",
      "Successfully installed pypdfium2-4.30.1\n"
     ]
    }
   ],
   "source": [
    "# #PyPDFium2 설치\n",
    "import sys\n",
    "!{sys.executable} -m pip install pypdfium2\n",
    "# !pip install pypdfium2"
   ]
  },
  {
   "cell_type": "code",
   "execution_count": 10,
   "id": "75a43510-2e68-4a64-bb7a-f49895429e11",
   "metadata": {
    "id": "75a43510-2e68-4a64-bb7a-f49895429e11"
   },
   "outputs": [
    {
     "name": "stdout",
     "output_type": "stream",
     "text": [
      "| 6 | CIS이슈리포트 2022-2호 \n",
      "▶ (주요품목① : 5G 이동통신) 정보통신 테마 내 기술분야 중 혁신성장 정책금융 공급규모가 가장 큰\n",
      "차세대무선통신미디어 분야의 경우 4G/5G 기술품목의 정책금융 공급 비중이 가장 높은 것으로 확인됨\n",
      "[차세대무선통신미디어 분야 내 기술품목별 혁신성장 정책금융 공급액 추이]\n",
      "(단위: 억 원)\n",
      "▶ 5G 이동통신 시스템은 ITU(International Telecommunication Union)가 정의한 5세대 이동통신\n",
      "규격을 만족시키는 무선 이동통신 네트워크 기술로, 2019년부터 국내 서비스를 시작함\n",
      "￮ 4G 이동통신 시스템(LTE)과 비교할 때 전송속도의 향상(1Gbps→20Gbps), 이동성 향상\n",
      "(350km/h→500km/h에서 끊김없는 데이터 전송 가능), 최대 연결가능 기기수 증가(10만 대 →\n",
      "100만 대 이상), 데이터 전송지연 감소(10ms→1ms) 등의 향상된 기능을 제공함\n",
      "￮ 5G는 전송속도 향상, 다수기기 접속 및 지연시간 단축을 위해 ①밀리미터파 통신이 가능한 주파수 \n",
      "확장, ②스몰셀(Small cell)을 도입한 기지국, ③다중안테나 송수신(Massive MIMO), ④네트워크 \n",
      "슬라이싱(Network Slicing) 등의 기술을 도입함\n",
      "[5G 주요 요소기술 특징]\n",
      "자료: 삼정 KPMG\n",
      "\n"
     ]
    },
    {
     "name": "stderr",
     "output_type": "stream",
     "text": [
      "C:\\Users\\juwonhee\\Anaconda3\\Lib\\site-packages\\pypdfium2\\_helpers\\textpage.py:80: UserWarning: get_text_range() call with default params will be implicitly redirected to get_text_bounded()\n",
      "  warnings.warn(\"get_text_range() call with default params will be implicitly redirected to get_text_bounded()\")\n"
     ]
    }
   ],
   "source": [
    "#PyPDFium2 불러오기\n",
    "from langchain.document_loaders import PyPDFium2Loader\n",
    "\n",
    "# PDF파일 불러올 객체 PyPDFium2Loader 선언\n",
    "loader = PyPDFium2Loader(filename)\n",
    "\n",
    "# PDF파일 로드 및 페이지별로 자르기(PyPDFium2는 load_and_split 함수 없이도 페이지별로 자름)\n",
    "data = loader.load()\n",
    "print(data[5].page_content)"
   ]
  },
  {
   "cell_type": "markdown",
   "id": "b35cfbc8-a246-42f5-8ff1-68101515ddff",
   "metadata": {
    "id": "b35cfbc8-a246-42f5-8ff1-68101515ddff"
   },
   "source": [
    "**[페이지 내 테이블 추출하기]**"
   ]
  },
  {
   "cell_type": "code",
   "execution_count": 11,
   "id": "945a0cac-2b3d-4f60-8af8-9f733f54fc98",
   "metadata": {
    "id": "945a0cac-2b3d-4f60-8af8-9f733f54fc98"
   },
   "outputs": [
    {
     "name": "stdout",
     "output_type": "stream",
     "text": [
      "| 4 | CIS이슈리포트 2022-2호 \n",
      "[혁신성장 ICT 산업 정책금융 공급 현황]\n",
      " (단위: 억 원, 괄호는 점유율 %)\n",
      "구분 2017년 말 2018년 말 2019년 말 2020년 말 2021년 말\n",
      "혁신성장 ICT 산업\n",
      "45,075 72,799 81,805 139,687 169,089 \n",
      "(18.7) (20.7) (18.5) (20.3) (19.8)\n",
      "정보통신\n",
      "15,658 27,417 39,033 65,324 77,750 \n",
      "(6.5) (7.8) (8.8) (9.5) (9.1)\n",
      "전기전자\n",
      "26,637 38,521 35,922 62,856 77,485 \n",
      "(11.1) (10.9) (8.1) (9.1) (9.1)\n",
      "센서측정\n",
      "2,780 6,861 6,851 11,506 13,854 \n",
      "(1.2) (1.9) (1.5) (1.7) (1.6)\n",
      "혁신성장 정책금융 \n",
      "총 공급액 240,787 351,987 443,180 688,409 854,338 \n",
      "3. 정보통신 테마 혁신성장 정책금융 현황 및 관련 산업 동향\n",
      "▶ (지원 현황) 정보통신 테마를 구성하는 기술분야별 정책금융 지원 현황 분석결과, 공급점유율 관점\n",
      "에서는 차세대무선통신미디어 분야에 가장 많은 정책자금이 투입 되고 있으며, 공급량 증가율 관점\n",
      "에서는 능동형컴퓨팅 분야로의 정책자금 지원 증가 속도가 가장 빠른 추세임\n",
      "￮ 차세대무선통신미디어란 전송속도 향상, 소모전력 절감, 고속이동 중 끊김없는 통신 등 새로운 무선\n",
      "환경에 필요한 통신, 인프라 및 서비스 기술을 통칭하며, 4G/5G/6G, 사물인터넷, 방송통신인프라 \n",
      "등의 품목으로 구성됨\n",
      "- 정보통신 테마 내 혁신성장 정책금융 공급 규모의 약 50%를 점유하고 있으며, 이는 초연결 미래\n",
      "사회를 구축하기 위해 네트워크 기반 기술 사업화에 대한 정책자금 공급이 꾸준함에 따른 것으로 \n",
      "분석됨\n",
      "￮ 능동형컴퓨팅이란 거대하고 복잡해지는 데이터의 효율적 가공과 관리를 위한 인간두뇌와 유사한 \n",
      "형태의 정보처리기술을 말하며, 인공지능, 상황인지컴퓨팅 등의 품목으로 구성됨\n",
      "- 컴퓨팅 기술을 활용한 다양한 사업화가 활발히 진행되고 있어 혁신성장 정책금융 공급 규모가 매년\n",
      "약 100% 수준으로 증가하고 있으며, 새정부의 ‘미래 먹거리산업 신성장 전략추진*’에 따라 인공\n",
      "지능 관련 기술로의 금융지원이 늘어날 것으로 전망됨\n",
      " * 에너지, 방산, 우주항공, 인공지능(AI), 바이오, 탄소중립 대응, 스마트농업을 차세대 6대 먹거리 산업으로 선정\n",
      "\n"
     ]
    }
   ],
   "source": [
    "#PyPDFium2 불러오기\n",
    "from langchain.document_loaders import PyPDFium2Loader\n",
    "\n",
    "# PDF파일 불러올 객체 PyPDFium2Loader 선언\n",
    "loader = PyPDFium2Loader(filename)\n",
    "\n",
    "# PDF파일 로드 및 페이지별로 자르기(PyPDFium2는 load_and_split 함수 없이도 페이지별로 자름)\n",
    "data = loader.load()\n",
    "print(data[3].page_content)"
   ]
  },
  {
   "cell_type": "markdown",
   "id": "ec348480-4b57-4830-997e-62794e8dc259",
   "metadata": {
    "id": "ec348480-4b57-4830-997e-62794e8dc259"
   },
   "source": [
    "### **PyPDFLoader vs PyPDFium2Loader**"
   ]
  },
  {
   "cell_type": "markdown",
   "id": "2eab9ad4-e454-47ed-9642-f4a7a6c592cf",
   "metadata": {
    "id": "2eab9ad4-e454-47ed-9642-f4a7a6c592cf"
   },
   "source": [
    "**[PyPDFLoader의 텍스트 추출 소요 시간]**"
   ]
  },
  {
   "cell_type": "code",
   "execution_count": 12,
   "id": "0c20b0fd-6f8d-48c4-bd0b-728f7a243cc4",
   "metadata": {
    "id": "0c20b0fd-6f8d-48c4-bd0b-728f7a243cc4"
   },
   "outputs": [
    {
     "name": "stdout",
     "output_type": "stream",
     "text": [
      "CPU times: total: 4.33 s\n",
      "Wall time: 4.43 s\n"
     ]
    }
   ],
   "source": [
    "%%time\n",
    "from langchain.document_loaders import PyPDFLoader\n",
    "\n",
    "loader = PyPDFLoader(filename)\n",
    "\n",
    "pages = loader.load_and_split()"
   ]
  },
  {
   "cell_type": "markdown",
   "id": "4a1aaacc-1bc8-434a-826e-5fd05273884c",
   "metadata": {
    "id": "4a1aaacc-1bc8-434a-826e-5fd05273884c"
   },
   "source": [
    "**[PyPDFium2의 텍스트 추출 소요 시간]**"
   ]
  },
  {
   "cell_type": "code",
   "execution_count": 13,
   "id": "998e311c-95ce-4b98-814d-5e1ccc16c2a4",
   "metadata": {
    "id": "998e311c-95ce-4b98-814d-5e1ccc16c2a4"
   },
   "outputs": [
    {
     "name": "stdout",
     "output_type": "stream",
     "text": [
      "CPU times: total: 188 ms\n",
      "Wall time: 209 ms\n"
     ]
    }
   ],
   "source": [
    "%%time\n",
    "from langchain.document_loaders import PyPDFium2Loader\n",
    "\n",
    "loader = PyPDFium2Loader(filename)\n",
    "\n",
    "pages = loader.load()"
   ]
  },
  {
   "cell_type": "code",
   "execution_count": null,
   "id": "d62dab6c-efb0-4d8d-ace8-972240741f8f",
   "metadata": {},
   "outputs": [],
   "source": []
  }
 ],
 "metadata": {
  "colab": {
   "provenance": []
  },
  "kernelspec": {
   "display_name": "Python 3 (ipykernel)",
   "language": "python",
   "name": "python3"
  },
  "language_info": {
   "codemirror_mode": {
    "name": "ipython",
    "version": 3
   },
   "file_extension": ".py",
   "mimetype": "text/x-python",
   "name": "python",
   "nbconvert_exporter": "python",
   "pygments_lexer": "ipython3",
   "version": "3.12.7"
  }
 },
 "nbformat": 4,
 "nbformat_minor": 5
}
