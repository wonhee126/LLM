{
 "cells": [
  {
   "cell_type": "markdown",
   "id": "b23d901e-a61f-49ba-bb62-e533ef62fc8e",
   "metadata": {
    "id": "b23d901e-a61f-49ba-bb62-e533ef62fc8e"
   },
   "source": [
    "## **Office file Loaders**"
   ]
  },
  {
   "cell_type": "markdown",
   "id": "c91ebeff-9eea-472c-b530-4b31e7b904c5",
   "metadata": {
    "id": "c91ebeff-9eea-472c-b530-4b31e7b904c5"
   },
   "source": [
    "### **Word 파일 불러오기**"
   ]
  },
  {
   "cell_type": "code",
   "execution_count": 2,
   "id": "ea7f1bf6-9133-4ecd-b67d-e670b7156a4e",
   "metadata": {},
   "outputs": [],
   "source": [
    "import sys\n",
    "!{sys.executable} -m pip install --upgrade --quiet docx2txt"
   ]
  },
  {
   "cell_type": "code",
   "execution_count": 3,
   "id": "7218b698-144b-4a1d-ac3e-a63ee3e9c942",
   "metadata": {
    "id": "7218b698-144b-4a1d-ac3e-a63ee3e9c942"
   },
   "outputs": [
    {
     "name": "stdout",
     "output_type": "stream",
     "text": [
      "2011.09.01\t'갤럭시 노트' 공개\n",
      "\n",
      "\t2012.04.01\tLCD사업부 분사(삼성디스플레이㈜ 설립)\n",
      "\n",
      "\t2013.06.26\t'갤럭시 S4 LTE-A' LTE-A 스마트폰 출시\n",
      "\n",
      "\t2013.08.06\t'3D V-NAND' 3차원 수직구조 낸드플래시 메모리 양산\n",
      "\n",
      "\t2013.09.24\t'아이소셀(ISOCELL)' 차세대 CMOS 이미지센서 개발\n",
      "\n",
      "\t2017.03.05\t'QLED TV' 진화된 퀀텀닷 기술 적용 TV 출시\n",
      "\n",
      "\t2017.03.10\t전장 기업 Harman International Industries, Inc.사(100%) 지분 인수 2017.07.04\t세계 최대 규모 평택 반도체 라인 가동\n",
      "\n",
      "\t2017.11.01\t프린팅솔루션 사업 매각\n",
      "\n",
      "\t2018.08.30\t'QLED 8K TV' 퀀텀닷 기술과 8K 해상도 적용 TV 출시\n",
      "\n",
      "\t2018.11.07\t'폴더블 디스플레이' 삼성 개발자 컨퍼런스에서 공개\n",
      "\n",
      "\t2019.04.03\t'갤럭시 S10 5G' 5G 스마트폰 출시\n",
      "\n",
      "\t20\n"
     ]
    }
   ],
   "source": [
    "#Docx2txtLoader 불러오기\n",
    "from langchain.document_loaders import Docx2txtLoader\n",
    "\n",
    "#Docx2txtLoader로 워드 파일 불러오기(경로 설정)\n",
    "loader = Docx2txtLoader(r\"../data/[삼성전자] 사업보고서(일반법인) (2021.03.09).docx\")\n",
    "\n",
    "#페이지로 분할하여 불러오기\n",
    "data = loader.load_and_split()\n",
    "\n",
    "#첫번째 페이지 출력하기\n",
    "print(data[12].page_content[:500])"
   ]
  },
  {
   "cell_type": "code",
   "execution_count": 4,
   "id": "860d98d7-e98b-439a-9a66-4dfe41f1e856",
   "metadata": {
    "id": "860d98d7-e98b-439a-9a66-4dfe41f1e856"
   },
   "outputs": [
    {
     "name": "stdout",
     "output_type": "stream",
     "text": [
      "{'source': '../data/[삼성전자] 사업보고서(일반법인) (2021.03.09).docx'}\n"
     ]
    }
   ],
   "source": [
    "#로드한 워드파일의 메타데이터 확인\n",
    "print(data[12].metadata)"
   ]
  },
  {
   "cell_type": "markdown",
   "id": "99959741-9e6b-488f-aded-bf13487a7689",
   "metadata": {
    "id": "99959741-9e6b-488f-aded-bf13487a7689"
   },
   "source": [
    "### **CSV 파일 불러오기**"
   ]
  },
  {
   "cell_type": "code",
   "execution_count": 5,
   "id": "b2d3f394-a47b-49a5-a9b3-34a64c2e590f",
   "metadata": {
    "id": "b2d3f394-a47b-49a5-a9b3-34a64c2e590f"
   },
   "outputs": [
    {
     "data": {
      "text/plain": [
       "Document(metadata={'source': '../data/mlb_teams_2012.csv', 'row': 0}, page_content='Team: Nationals\\n\"Payroll (millions)\": 81.34\\n\"Wins\": 98')"
      ]
     },
     "execution_count": 5,
     "metadata": {},
     "output_type": "execute_result"
    }
   ],
   "source": [
    "from langchain.document_loaders.csv_loader import CSVLoader\n",
    "\n",
    "loader = CSVLoader(file_path=r\"../data/mlb_teams_2012.csv\")\n",
    "\n",
    "data = loader.load()\n",
    "\n",
    "data[0]"
   ]
  },
  {
   "cell_type": "markdown",
   "id": "84f48f01-407d-4404-9800-a2c8de80e073",
   "metadata": {
    "id": "84f48f01-407d-4404-9800-a2c8de80e073"
   },
   "source": [
    "### **PPT 파일 불러오기**"
   ]
  },
  {
   "cell_type": "code",
   "execution_count": 6,
   "id": "b9411451-d548-47de-b7fc-4c4a00c9d85c",
   "metadata": {},
   "outputs": [
    {
     "name": "stdout",
     "output_type": "stream",
     "text": [
      "3.9.1\n"
     ]
    }
   ],
   "source": [
    "import nltk\n",
    "print(nltk.__version__)"
   ]
  },
  {
   "cell_type": "code",
   "execution_count": 8,
   "id": "c4058dde-8bc8-42b4-98bb-cd30ed462ca0",
   "metadata": {},
   "outputs": [
    {
     "name": "stdout",
     "output_type": "stream",
     "text": [
      "Collecting unstructured\n",
      "  Downloading unstructured-0.17.2-py3-none-any.whl.metadata (24 kB)\n",
      "Requirement already satisfied: chardet in c:\\users\\juwonhee\\anaconda3\\lib\\site-packages (from unstructured) (3.0.4)\n",
      "Collecting filetype (from unstructured)\n",
      "  Using cached filetype-1.2.0-py2.py3-none-any.whl.metadata (6.5 kB)\n",
      "Collecting python-magic (from unstructured)\n",
      "  Using cached python_magic-0.4.27-py2.py3-none-any.whl.metadata (5.8 kB)\n",
      "Requirement already satisfied: lxml in c:\\users\\juwonhee\\anaconda3\\lib\\site-packages (from unstructured) (5.2.1)\n",
      "Requirement already satisfied: nltk in c:\\users\\juwonhee\\anaconda3\\lib\\site-packages (from unstructured) (3.9.1)\n",
      "Requirement already satisfied: requests in c:\\users\\juwonhee\\anaconda3\\lib\\site-packages (from unstructured) (2.32.3)\n",
      "Requirement already satisfied: beautifulsoup4 in c:\\users\\juwonhee\\anaconda3\\lib\\site-packages (from unstructured) (4.12.3)\n",
      "Collecting emoji (from unstructured)\n",
      "  Using cached emoji-2.14.1-py3-none-any.whl.metadata (5.7 kB)\n",
      "Requirement already satisfied: dataclasses-json in c:\\users\\juwonhee\\anaconda3\\lib\\site-packages (from unstructured) (0.6.7)\n",
      "Collecting python-iso639 (from unstructured)\n",
      "  Downloading python_iso639-2025.2.18-py3-none-any.whl.metadata (14 kB)\n",
      "Requirement already satisfied: langdetect in c:\\users\\juwonhee\\anaconda3\\lib\\site-packages (from unstructured) (1.0.9)\n",
      "Requirement already satisfied: numpy in c:\\users\\juwonhee\\anaconda3\\lib\\site-packages (from unstructured) (1.26.4)\n",
      "Collecting rapidfuzz (from unstructured)\n",
      "  Downloading rapidfuzz-3.13.0-cp312-cp312-win_amd64.whl.metadata (12 kB)\n",
      "Collecting backoff (from unstructured)\n",
      "  Using cached backoff-2.2.1-py3-none-any.whl.metadata (14 kB)\n",
      "Requirement already satisfied: typing-extensions in c:\\users\\juwonhee\\anaconda3\\lib\\site-packages (from unstructured) (4.14.0)\n",
      "Collecting unstructured-client (from unstructured)\n",
      "  Downloading unstructured_client-0.37.1-py3-none-any.whl.metadata (21 kB)\n",
      "Requirement already satisfied: wrapt in c:\\users\\juwonhee\\anaconda3\\lib\\site-packages (from unstructured) (1.14.1)\n",
      "Requirement already satisfied: tqdm in c:\\users\\juwonhee\\anaconda3\\lib\\site-packages (from unstructured) (4.66.5)\n",
      "Requirement already satisfied: psutil in c:\\users\\juwonhee\\anaconda3\\lib\\site-packages (from unstructured) (5.9.0)\n",
      "Collecting python-oxmsg (from unstructured)\n",
      "  Downloading python_oxmsg-0.0.2-py3-none-any.whl.metadata (5.0 kB)\n",
      "Collecting html5lib (from unstructured)\n",
      "  Downloading html5lib-1.1-py2.py3-none-any.whl.metadata (16 kB)\n",
      "Requirement already satisfied: soupsieve>1.2 in c:\\users\\juwonhee\\anaconda3\\lib\\site-packages (from beautifulsoup4->unstructured) (2.5)\n",
      "Requirement already satisfied: marshmallow<4.0.0,>=3.18.0 in c:\\users\\juwonhee\\anaconda3\\lib\\site-packages (from dataclasses-json->unstructured) (3.26.1)\n",
      "Requirement already satisfied: typing-inspect<1,>=0.4.0 in c:\\users\\juwonhee\\anaconda3\\lib\\site-packages (from dataclasses-json->unstructured) (0.9.0)\n",
      "Requirement already satisfied: six>=1.9 in c:\\users\\juwonhee\\anaconda3\\lib\\site-packages (from html5lib->unstructured) (1.16.0)\n",
      "Requirement already satisfied: webencodings in c:\\users\\juwonhee\\anaconda3\\lib\\site-packages (from html5lib->unstructured) (0.5.1)\n",
      "Requirement already satisfied: click in c:\\users\\juwonhee\\anaconda3\\lib\\site-packages (from nltk->unstructured) (8.1.7)\n",
      "Requirement already satisfied: joblib in c:\\users\\juwonhee\\anaconda3\\lib\\site-packages (from nltk->unstructured) (1.4.2)\n",
      "Requirement already satisfied: regex>=2021.8.3 in c:\\users\\juwonhee\\anaconda3\\lib\\site-packages (from nltk->unstructured) (2024.9.11)\n",
      "Collecting olefile (from python-oxmsg->unstructured)\n",
      "  Downloading olefile-0.47-py2.py3-none-any.whl.metadata (9.7 kB)\n",
      "Requirement already satisfied: charset-normalizer<4,>=2 in c:\\users\\juwonhee\\anaconda3\\lib\\site-packages (from requests->unstructured) (3.3.2)\n",
      "Requirement already satisfied: idna<4,>=2.5 in c:\\users\\juwonhee\\anaconda3\\lib\\site-packages (from requests->unstructured) (2.10)\n",
      "Requirement already satisfied: urllib3<3,>=1.21.1 in c:\\users\\juwonhee\\anaconda3\\lib\\site-packages (from requests->unstructured) (2.2.3)\n",
      "Requirement already satisfied: certifi>=2017.4.17 in c:\\users\\juwonhee\\anaconda3\\lib\\site-packages (from requests->unstructured) (2024.8.30)\n",
      "Requirement already satisfied: colorama in c:\\users\\juwonhee\\anaconda3\\lib\\site-packages (from tqdm->unstructured) (0.4.6)\n",
      "Collecting aiofiles>=24.1.0 (from unstructured-client->unstructured)\n",
      "  Using cached aiofiles-24.1.0-py3-none-any.whl.metadata (10 kB)\n",
      "Requirement already satisfied: cryptography>=3.1 in c:\\users\\juwonhee\\anaconda3\\lib\\site-packages (from unstructured-client->unstructured) (43.0.0)\n",
      "Requirement already satisfied: httpx>=0.27.0 in c:\\users\\juwonhee\\anaconda3\\lib\\site-packages (from unstructured-client->unstructured) (0.28.1)\n",
      "Requirement already satisfied: nest-asyncio>=1.6.0 in c:\\users\\juwonhee\\anaconda3\\lib\\site-packages (from unstructured-client->unstructured) (1.6.0)\n",
      "Collecting pydantic>=2.11.2 (from unstructured-client->unstructured)\n",
      "  Using cached pydantic-2.11.7-py3-none-any.whl.metadata (67 kB)\n",
      "Requirement already satisfied: pypdf>=4.0 in c:\\users\\juwonhee\\anaconda3\\lib\\site-packages (from unstructured-client->unstructured) (5.6.1)\n",
      "Requirement already satisfied: requests-toolbelt>=1.0.0 in c:\\users\\juwonhee\\anaconda3\\lib\\site-packages (from unstructured-client->unstructured) (1.0.0)\n",
      "Requirement already satisfied: cffi>=1.12 in c:\\users\\juwonhee\\anaconda3\\lib\\site-packages (from cryptography>=3.1->unstructured-client->unstructured) (1.17.1)\n",
      "Requirement already satisfied: anyio in c:\\users\\juwonhee\\anaconda3\\lib\\site-packages (from httpx>=0.27.0->unstructured-client->unstructured) (4.2.0)\n",
      "Requirement already satisfied: httpcore==1.* in c:\\users\\juwonhee\\anaconda3\\lib\\site-packages (from httpx>=0.27.0->unstructured-client->unstructured) (1.0.9)\n",
      "Requirement already satisfied: h11>=0.16 in c:\\users\\juwonhee\\anaconda3\\lib\\site-packages (from httpcore==1.*->httpx>=0.27.0->unstructured-client->unstructured) (0.16.0)\n",
      "Requirement already satisfied: packaging>=17.0 in c:\\users\\juwonhee\\anaconda3\\lib\\site-packages (from marshmallow<4.0.0,>=3.18.0->dataclasses-json->unstructured) (24.1)\n",
      "Requirement already satisfied: annotated-types>=0.6.0 in c:\\users\\juwonhee\\anaconda3\\lib\\site-packages (from pydantic>=2.11.2->unstructured-client->unstructured) (0.6.0)\n",
      "Collecting pydantic-core==2.33.2 (from pydantic>=2.11.2->unstructured-client->unstructured)\n",
      "  Using cached pydantic_core-2.33.2-cp312-cp312-win_amd64.whl.metadata (6.9 kB)\n",
      "Requirement already satisfied: typing-inspection>=0.4.0 in c:\\users\\juwonhee\\anaconda3\\lib\\site-packages (from pydantic>=2.11.2->unstructured-client->unstructured) (0.4.1)\n",
      "Requirement already satisfied: mypy-extensions>=0.3.0 in c:\\users\\juwonhee\\anaconda3\\lib\\site-packages (from typing-inspect<1,>=0.4.0->dataclasses-json->unstructured) (1.0.0)\n",
      "Requirement already satisfied: pycparser in c:\\users\\juwonhee\\anaconda3\\lib\\site-packages (from cffi>=1.12->cryptography>=3.1->unstructured-client->unstructured) (2.21)\n",
      "Requirement already satisfied: sniffio>=1.1 in c:\\users\\juwonhee\\anaconda3\\lib\\site-packages (from anyio->httpx>=0.27.0->unstructured-client->unstructured) (1.3.0)\n",
      "Downloading unstructured-0.17.2-py3-none-any.whl (1.8 MB)\n",
      "   ---------------------------------------- 0.0/1.8 MB ? eta -:--:--\n",
      "   ---------------------------------------- 1.8/1.8 MB 10.7 MB/s eta 0:00:00\n",
      "Using cached backoff-2.2.1-py3-none-any.whl (15 kB)\n",
      "Using cached emoji-2.14.1-py3-none-any.whl (590 kB)\n",
      "Using cached filetype-1.2.0-py2.py3-none-any.whl (19 kB)\n",
      "Downloading html5lib-1.1-py2.py3-none-any.whl (112 kB)\n",
      "Downloading python_iso639-2025.2.18-py3-none-any.whl (167 kB)\n",
      "Using cached python_magic-0.4.27-py2.py3-none-any.whl (13 kB)\n",
      "Downloading python_oxmsg-0.0.2-py3-none-any.whl (31 kB)\n",
      "Downloading rapidfuzz-3.13.0-cp312-cp312-win_amd64.whl (1.6 MB)\n",
      "   ---------------------------------------- 0.0/1.6 MB ? eta -:--:--\n",
      "   ------ --------------------------------- 0.3/1.6 MB ? eta -:--:--\n",
      "   ------------------------- -------------- 1.0/1.6 MB 4.6 MB/s eta 0:00:01\n",
      "   ---------------------------------------- 1.6/1.6 MB 3.1 MB/s eta 0:00:00\n",
      "Downloading unstructured_client-0.37.1-py3-none-any.whl (210 kB)\n",
      "Using cached aiofiles-24.1.0-py3-none-any.whl (15 kB)\n",
      "Using cached pydantic-2.11.7-py3-none-any.whl (444 kB)\n",
      "Using cached pydantic_core-2.33.2-cp312-cp312-win_amd64.whl (2.0 MB)\n",
      "Downloading olefile-0.47-py2.py3-none-any.whl (114 kB)\n",
      "Installing collected packages: filetype, rapidfuzz, python-magic, python-iso639, pydantic-core, olefile, html5lib, emoji, backoff, aiofiles, python-oxmsg, pydantic, unstructured-client, unstructured\n",
      "  Attempting uninstall: pydantic-core\n",
      "    Found existing installation: pydantic_core 2.20.1\n",
      "    Uninstalling pydantic_core-2.20.1:\n",
      "      Successfully uninstalled pydantic_core-2.20.1\n",
      "  Attempting uninstall: pydantic\n",
      "    Found existing installation: pydantic 2.8.2\n",
      "    Uninstalling pydantic-2.8.2:\n",
      "      Successfully uninstalled pydantic-2.8.2\n",
      "Successfully installed aiofiles-24.1.0 backoff-2.2.1 emoji-2.14.1 filetype-1.2.0 html5lib-1.1 olefile-0.47 pydantic-2.11.7 pydantic-core-2.33.2 python-iso639-2025.2.18 python-magic-0.4.27 python-oxmsg-0.0.2 rapidfuzz-3.13.0 unstructured-0.17.2 unstructured-client-0.37.1\n"
     ]
    }
   ],
   "source": [
    "import sys\n",
    "!{sys.executable} -m pip install unstructured"
   ]
  },
  {
   "cell_type": "code",
   "execution_count": 10,
   "id": "7e321756-3165-47f6-82da-0f0a498f443d",
   "metadata": {},
   "outputs": [
    {
     "name": "stdout",
     "output_type": "stream",
     "text": [
      "Collecting python-pptx\n",
      "  Using cached python_pptx-1.0.2-py3-none-any.whl.metadata (2.5 kB)\n",
      "Requirement already satisfied: Pillow>=3.3.2 in c:\\users\\juwonhee\\anaconda3\\lib\\site-packages (from python-pptx) (10.4.0)\n",
      "Collecting XlsxWriter>=0.5.7 (from python-pptx)\n",
      "  Using cached xlsxwriter-3.2.5-py3-none-any.whl.metadata (2.7 kB)\n",
      "Requirement already satisfied: lxml>=3.1.0 in c:\\users\\juwonhee\\anaconda3\\lib\\site-packages (from python-pptx) (5.2.1)\n",
      "Requirement already satisfied: typing-extensions>=4.9.0 in c:\\users\\juwonhee\\anaconda3\\lib\\site-packages (from python-pptx) (4.14.0)\n",
      "Using cached python_pptx-1.0.2-py3-none-any.whl (472 kB)\n",
      "Using cached xlsxwriter-3.2.5-py3-none-any.whl (172 kB)\n",
      "Installing collected packages: XlsxWriter, python-pptx\n",
      "Successfully installed XlsxWriter-3.2.5 python-pptx-1.0.2\n"
     ]
    }
   ],
   "source": [
    "import sys\n",
    "!{sys.executable} -m pip install python-pptx"
   ]
  },
  {
   "cell_type": "code",
   "execution_count": 11,
   "id": "e1c9959f-4234-428a-b6d7-ff48dbc5f8b3",
   "metadata": {
    "id": "e1c9959f-4234-428a-b6d7-ff48dbc5f8b3"
   },
   "outputs": [
    {
     "data": {
      "text/plain": [
       "Document(metadata={'source': '../data/Copilot-scenarios-for-Marketing.pptx', 'category_depth': 0, 'file_directory': '../data', 'filename': 'Copilot-scenarios-for-Marketing.pptx', 'last_modified': '2025-06-23T17:43:54', 'page_number': 2, 'languages': ['eng'], 'filetype': 'application/vnd.openxmlformats-officedocument.presentationml.presentation', 'category': 'Title', 'element_id': '37991e0f3ff36db43b1ba8379a3657de'}, page_content='Copilot scenarios for\\x0bMarketing')"
      ]
     },
     "execution_count": 11,
     "metadata": {},
     "output_type": "execute_result"
    }
   ],
   "source": [
    "#UnstructuredPowerPointLoader 불러오기\n",
    "from langchain.document_loaders import UnstructuredPowerPointLoader\n",
    "\n",
    "#mode=elements를 통해 pptx의 요소별로 Document 객체로 가져오기\n",
    "loader = UnstructuredPowerPointLoader(r\"../data/Copilot-scenarios-for-Marketing.pptx\", mode=\"elements\")\n",
    "\n",
    "#pptx 파일을 분할 로드하기\n",
    "data = loader.load_and_split()\n",
    "\n",
    "data[1]"
   ]
  },
  {
   "cell_type": "code",
   "execution_count": 12,
   "id": "a65a0341-a3d6-4aa5-830d-998909b1bb4c",
   "metadata": {
    "id": "a65a0341-a3d6-4aa5-830d-998909b1bb4c"
   },
   "outputs": [
    {
     "name": "stdout",
     "output_type": "stream",
     "text": [
      "Title\n",
      "Copilot scenarios for\u000b",
      "Marketing\n",
      "\n",
      "\n",
      "Title\n",
      "Overview and KPIs\n",
      "\n",
      "\n",
      "Title\n",
      "Use Case by Role\n",
      "\n",
      "\n",
      "Title\n",
      "Day in the Life\n",
      "\n",
      "\n",
      "NarrativeText\n",
      "KPIs play a crucial role in organizations, providing a compass to navigate toward success. Let's dive into KPIs for Marketing and how Copilot can assist.\n",
      "\n",
      "\n",
      "NarrativeText\n",
      "Copilot can simplify the tasks that execs perform every day. Look at key use cases and how Copilot can be your AI assistant along the way.\n",
      "\n",
      "\n",
      "NarrativeText\n",
      "See how real-life marketers are using Copilot in their day to day.\n",
      "\n",
      "\n"
     ]
    }
   ],
   "source": [
    "for i in data:\n",
    "    if i.metadata['page_number'] == 2:\n",
    "        print(i.metadata['category'])\n",
    "        print(i.page_content)\n",
    "        print(\"\\n\")"
   ]
  },
  {
   "cell_type": "markdown",
   "id": "c02a7891-5b5b-49ec-a04b-2ad829f5a03e",
   "metadata": {
    "id": "c02a7891-5b5b-49ec-a04b-2ad829f5a03e"
   },
   "source": [
    "## **인터넷 정보 로드하기, WebBaseLoader**"
   ]
  },
  {
   "cell_type": "code",
   "execution_count": 13,
   "id": "96c46aba-f2b8-4aea-bbd8-8aaeabc91ef4",
   "metadata": {
    "id": "96c46aba-f2b8-4aea-bbd8-8aaeabc91ef4"
   },
   "outputs": [
    {
     "name": "stderr",
     "output_type": "stream",
     "text": [
      "USER_AGENT environment variable not set, consider setting it to identify your requests.\n",
      "C:\\Users\\juwonhee\\Anaconda3\\Lib\\site-packages\\urllib3\\connectionpool.py:1099: InsecureRequestWarning: Unverified HTTPS request is being made to host 'www.espn.com'. Adding certificate verification is strongly advised. See: https://urllib3.readthedocs.io/en/latest/advanced-usage.html#tls-warnings\n",
      "  warnings.warn(\n"
     ]
    },
    {
     "data": {
      "text/plain": [
       "[Document(metadata={'source': 'https://www.espn.com/', 'title': 'ESPN - Serving Sports Fans. Anytime. Anywhere.', 'description': 'Visit ESPN for live scores, highlights and sports news. Stream exclusive games on ESPN+ and play fantasy sports.', 'language': 'en'}, page_content=\"\\n\\n\\n\\n\\n\\n\\n\\n\\nESPN - Serving Sports Fans. Anytime. Anywhere.\\n\\n\\n\\n\\n\\n\\n\\n\\n\\n\\n\\n\\n\\n\\n\\n\\n\\n\\n\\n\\n\\n\\n\\n\\n\\n\\n\\n\\n\\n\\n\\n\\n\\n\\n\\n\\n\\n\\n\\n\\n\\n\\n\\n\\n\\n\\n\\n\\n\\n\\n\\n\\n\\n\\n\\n\\n\\n\\n\\n\\n\\n\\n\\n\\n\\n\\n\\n\\n\\n\\n\\n\\n\\n\\n\\n\\n\\n\\n\\n\\n\\n\\n\\n\\n\\n\\n\\n\\n\\n\\n\\n\\n\\n        Skip to main content\\n    \\n\\n        Skip to navigation\\n    \\n\\n\\n\\n\\n\\n\\n\\n\\n\\n\\n\\n\\n\\n\\n\\n\\n\\n\\n\\n\\n\\n\\n\\n\\n\\n\\n\\n\\n\\n\\n\\n\\n\\n<\\n\\n>\\n\\n\\n\\n\\n\\n\\n\\n\\n\\nMenuESPN\\n\\n\\n\\n\\n\\nscores\\n\\n\\n\\nNFLNBANHLMLBWNBASoccerMMAMore SportsBoxingNCAACricketF1GamingGolfHorseLLWSNASCARNLLNBA G LeagueNBA Summer LeagueNCAAFNCAAMNCAAWNWSLOlympicsPLLProfessional WrestlingRacingRN BBRN FBRugbySports BettingTennisTGLUFLX GamesEditionsFantasyWatchESPN BETESPN+\\n\\n\\n\\n\\n\\n\\n\\n\\n\\n\\n\\n\\n\\n\\n\\n  \\n\\nSubscribe Now\\n\\n\\n\\n\\n\\nNBA Finals Game 7: Pacers vs. Thunder\\n\\n\\n\\n\\n\\n\\n\\nThe Ultimate Fighter\\n\\n\\n\\n\\n\\n\\n\\nUFC 317: Topuria vs. Oliveira (Jun. 28, PPV)\\n\\n\\nQuick Links\\n\\n\\n\\n\\nNCAA Baseball Tournament\\n\\n\\n\\n\\n\\n\\n\\nNBA Playoffs\\n\\n\\n\\n\\n\\n\\n\\nNBA Draft\\n\\n\\n\\n\\n\\n\\n\\nWNBA Season Schedule\\n\\n\\n\\n\\n\\n\\n\\nWhere To Watch\\n\\n\\n\\n\\n\\n\\n\\nToday's Top Odds\\n\\n\\n\\n\\n\\n\\n\\nESPN Radio: Listen Live\\n\\n\\n\\n\\n\\n\\nFavorites\\n\\n\\n\\n\\n\\n\\n      Manage Favorites\\n      \\n\\n\\n\\nCustomize ESPNCreate AccountLog InFantasy\\n\\n\\n\\n\\nFootball\\n\\n\\n\\n\\n\\n\\n\\nBaseball\\n\\n\\n\\n\\n\\n\\n\\nHockey\\n\\n\\n\\n\\n\\n\\n\\nMen's Basketball\\n\\n\\n\\n\\n\\n\\n\\nWomen's Basketball\\n\\n\\nESPN Sites\\n\\n\\n\\n\\nESPN Deportes\\n\\n\\n\\n\\n\\n\\n\\nAndscape\\n\\n\\n\\n\\n\\n\\n\\nespnW\\n\\n\\n\\n\\n\\n\\n\\nESPNFC\\n\\n\\n\\n\\n\\n\\n\\nX Games\\n\\n\\n\\n\\n\\n\\n\\nSEC Network\\n\\n\\nESPN Apps\\n\\n\\n\\n\\nESPN\\n\\n\\n\\n\\n\\n\\n\\nESPN Fantasy\\n\\n\\n\\n\\n\\n\\n\\nTournament Challenge\\n\\n\\nFollow ESPN\\n\\n\\n\\n\\nFacebook\\n\\n\\n\\n\\n\\n\\n\\nX/Twitter\\n\\n\\n\\n\\n\\n\\n\\nInstagram\\n\\n\\n\\n\\n\\n\\n\\nSnapchat\\n\\n\\n\\n\\n\\n\\n\\nTikTok\\n\\n\\n\\n\\n\\n\\n\\nYouTube\\n\\n\\nNew NBA mock draft, two days before Round 1: Latest buzz on the chaotic top-10 picksWill the 76ers, Hornets and Jazz take best-player-available approaches? We project both rounds of the NBA draft.16hJonathan Givony and Jeremy WooESPN IllustrationOur one-stop shop for the 2025 NBA draft: Mocks, order and big questionsWe have everything you need to know about the 2025 NBA draft.16hESPN staffğŸš¨ Final big board for the top 100 prospectsğŸ“‹ Full draft orderTOP HEADLINESPadres' Tatis sues BLA to void future earnings dealSources: Mavs to extend Gafford on $60M dealPacers confirm Haliburton has torn Achilles5-year sentence sought for Franco; verdict Thu.Sources: Wiz's Middleton picks up $33.3M optionReds DFA Candelario halfway through $45M deal'We are Vegas' team': A's begin building stadiumAlex Telles: Botafogo not in U.S. just to 'see Mickey'ğŸ”� Redrafting MLB draft top-10 picks, 2015-242025 FIFA Club World CupFollow live: Mauricio scores equalizer in the 87th minute vs. Miami3mRich Storry - FIFA/FIFA via Getty ImagesğŸ�† How teams can qualify for the last 16âš½ Messi tracker: All goals, assists, key moments for MiamiWhy this Thunder big 3 might be the one to start a dynasty11hRamona ShelburneMLB SCOREBOARDğŸ“… Complete scoreboardâ¬†â¬‡ StandingsWHO MADE THE BEST CHOICES?Redrafting the top 10 picks in every MLB draft from 2015 to 2024Witt over Rutschman? Does Skenes still go No. 1? Let's go back in time to right the wrongs of the past 10 MLB drafts.16hDavid SchoenfieldJoe Nicholson-Imagn ImagesLOOKING AHEADOur early 2025-26 NBA Power Rankings: Stacking all 30 teamsLet's see where all 30 teams stand in the NBA Power Rankings ahead of the 2025-26 season.1dESPNESPN IllustrationHow close is your team to an NBA title? We tiered all 30 franchisesWhile the world watched the Finals, the league's hierarchy shifted. Is OKC already looking over its shoulder ?12hTim BontempsğŸ“° Free agency: Latest signings, news, buzz, reportsğŸ“ŒOffseason priorities for every teamHALIBURTON TEARS ACHILLESFantasy: How Haliburton's injury impacts PacersMore will be expected from players like Andrew Nembhard, Pascal Siakam and Bennedict Mathurin.7hEric MoodyKD HEADED TO HOUSTONGrading the deal: Houston goes all-in, but did Phoenix get enough?The Suns and Rockets have agreed to a deal that lands Kevin Durant in Houston. Which side won the trade?1dESPNJoe Camporeale-USA TODAY SportsğŸ”® Trade effect on fantasy, betting landscapeFINALIZING ROUND OF 16Atletico Madrid are first big Club World Cup exit: updatesAtletico Madrid's campaign came to a quiet end even with a win over Botafogo, making them the first big team to go home early. Here's what you need to know from Monday's Club World Cup action.3hMultiple ContributorsAlex Pantling - FIFA/FIFA via Getty ImagesğŸ�† Who will wrap up round of 16? Top HeadlinesPadres' Tatis sues BLA to void future earnings dealSources: Mavs to extend Gafford on $60M dealPacers confirm Haliburton has torn Achilles5-year sentence sought for Franco; verdict Thu.Sources: Wiz's Middleton picks up $33.3M optionReds DFA Candelario halfway through $45M deal'We are Vegas' team': A's begin building stadiumAlex Telles: Botafogo not in U.S. just to 'see Mickey'ğŸ”� Redrafting MLB draft top-10 picks, 2015-24Favorites FantasyManage FavoritesFantasy HomeCustomize ESPNCreate AccountLog InICYMI1:06Kevin Durant finds out about trade to RocketsKevin Durant finds out about being traded to the Houston Rockets during a live appearance at Fanatics Fest. Trending NowFrank Franklin II/APNBA offseason 2025: Celtics' financial crunch and 3 trade offersThe Celtics face an offseason of uncertainty. Here are their options ahead of the draft, including three big trades.AP Photo/Godofredo A. VÃƒsquezHow the Red Sox-Rafael Devers breakup got so messyAs Devers prepares to play against his former team, a look inside the clubhouse culture that helped cause the divorce.ESPNNFL All Quarter Century team: Best 53-man roster, coachesIn honor of hitting the quarter-century mark, we built a 53-man roster of the best NFL players from the past 25 years. Who makes the team?ESPNCollege football's 10 most unbreakable recordsA look at the marks that have stood the test of time -- and most likely always will.Alexander Tamargo/Getty Images for E11EVENPanthers' Brad Marchand's eventful run with Stanley CupThe Florida Panthers' Stanley Cup win caused for an eventful wave of celebration from the center. Sign up to play the #1 Fantasy game!Create A LeagueJoin Public LeagueReactivate A LeagueMock Draft NowSign up to play the #1 Fantasy Baseball GameReactivate A LeagueCreate A LeagueJoin a Public LeaguePractice With a Mock DraftSign up for FREE!Reactivate A LeagueCreate A LeagueJoin a Public LeaguePractice With a Mock DraftESPN+ on Disney+Mike Windle/Getty Images for ESPNHow to watch ESPN+ on Disney+: Frequently asked questionsESPN+ is available on Disney+. Check out how to watch NHL, MLB, Pat McAfee, 30 for 30s and other exciting events now. Get a custom ESPN experienceEnjoy the benefits of a personalized accountSelect your favorite leagues, teams and players and get the latest scores, news and updates that matter most to you. \\n\\nESPN+\\n\\n\\n\\n\\nThe Ultimate Fighter\\n\\n\\n\\n\\n\\n\\n\\nUFC 317: Topuria vs. Oliveira (Jun. 28, PPV)\\n\\n\\nQuick Links\\n\\n\\n\\n\\nNCAA Baseball Tournament\\n\\n\\n\\n\\n\\n\\n\\nNBA Playoffs\\n\\n\\n\\n\\n\\n\\n\\nNBA Draft\\n\\n\\n\\n\\n\\n\\n\\nWNBA Season Schedule\\n\\n\\n\\n\\n\\n\\n\\nWhere To Watch\\n\\n\\n\\n\\n\\n\\n\\nToday's Top Odds\\n\\n\\n\\n\\n\\n\\n\\nESPN Radio: Listen Live\\n\\n\\nFantasy\\n\\n\\n\\n\\nFootball\\n\\n\\n\\n\\n\\n\\n\\nBaseball\\n\\n\\n\\n\\n\\n\\n\\nHockey\\n\\n\\n\\n\\n\\n\\n\\nMen's Basketball\\n\\n\\n\\n\\n\\n\\n\\nWomen's Basketball\\n\\n\\nESPN Sites\\n\\n\\n\\n\\nESPN Deportes\\n\\n\\n\\n\\n\\n\\n\\nAndscape\\n\\n\\n\\n\\n\\n\\n\\nespnW\\n\\n\\n\\n\\n\\n\\n\\nESPNFC\\n\\n\\n\\n\\n\\n\\n\\nX Games\\n\\n\\n\\n\\n\\n\\n\\nSEC Network\\n\\n\\nESPN Apps\\n\\n\\n\\n\\nESPN\\n\\n\\n\\n\\n\\n\\n\\nESPN Fantasy\\n\\n\\n\\n\\n\\n\\n\\nTournament Challenge\\n\\n\\nFollow ESPN\\n\\n\\n\\n\\nFacebook\\n\\n\\n\\n\\n\\n\\n\\nX/Twitter\\n\\n\\n\\n\\n\\n\\n\\nInstagram\\n\\n\\n\\n\\n\\n\\n\\nSnapchat\\n\\n\\n\\n\\n\\n\\n\\nTikTok\\n\\n\\n\\n\\n\\n\\n\\nYouTube\\n\\n\\nTerms of UsePrivacy PolicyInterest-Based AdsÂ© ESPN Enterprises, Inc. All rights reserved.\\n\\n\\n\\n\\n\\n\\n\\n\\n\\n\\n\\n\\n\\n\\n\\n\\n\\n\")]"
      ]
     },
     "execution_count": 13,
     "metadata": {},
     "output_type": "execute_result"
    }
   ],
   "source": [
    "from langchain_community.document_loaders import WebBaseLoader\n",
    "#텍스트 추출할 URL 입력\n",
    "loader = WebBaseLoader(\"https://www.espn.com/\")\n",
    "#ssl verification 에러 방지를 위한 코드\n",
    "loader.requests_kwargs = {'verify':False}\n",
    "data = loader.load()\n",
    "data"
   ]
  },
  {
   "cell_type": "markdown",
   "id": "79315583-6417-401c-9911-a2e29232b71e",
   "metadata": {
    "id": "79315583-6417-401c-9911-a2e29232b71e"
   },
   "source": [
    "**[Headline만 가져오기]**"
   ]
  },
  {
   "cell_type": "code",
   "execution_count": 14,
   "id": "c5d834f1-76b9-47d4-a485-bccc64028687",
   "metadata": {
    "id": "c5d834f1-76b9-47d4-a485-bccc64028687"
   },
   "outputs": [
    {
     "name": "stderr",
     "output_type": "stream",
     "text": [
      "C:\\Users\\juwonhee\\Anaconda3\\Lib\\site-packages\\urllib3\\connectionpool.py:1099: InsecureRequestWarning: Unverified HTTPS request is being made to host 'www.espn.com'. Adding certificate verification is strongly advised. See: https://urllib3.readthedocs.io/en/latest/advanced-usage.html#tls-warnings\n",
      "  warnings.warn(\n"
     ]
    },
    {
     "data": {
      "text/plain": [
       "[Document(metadata={'source': 'https://www.espn.com/'}, page_content=\"Padres' Tatis sues BLA to void future earnings dealSources: Mavs to extend Gafford on $60M dealPacers confirm Haliburton has torn Achilles5-year sentence sought for Franco; verdict Thu.Sources: Wiz's Middleton picks up $33.3M optionReds DFA Candelario halfway through $45M deal'We are Vegas' team': A's begin building stadiumAlex Telles: Botafogo not in U.S. just to 'see Mickey'ğŸ”� Redrafting MLB draft top-10 picks, 2015-24 Top HeadlinesPadres' Tatis sues BLA to void future earnings dealSources: Mavs to extend Gafford on $60M dealPacers confirm Haliburton has torn Achilles5-year sentence sought for Franco; verdict Thu.Sources: Wiz's Middleton picks up $33.3M optionReds DFA Candelario halfway through $45M deal'We are Vegas' team': A's begin building stadiumAlex Telles: Botafogo not in U.S. just to 'see Mickey'ğŸ”� Redrafting MLB draft top-10 picks, 2015-24\")]"
      ]
     },
     "execution_count": 14,
     "metadata": {},
     "output_type": "execute_result"
    }
   ],
   "source": [
    "import bs4\n",
    "from langchain_community.document_loaders import WebBaseLoader\n",
    "#텍스트 추출할 URL 입력\n",
    "loader = WebBaseLoader(\"https://www.espn.com/\",\n",
    "                        bs_kwargs=dict(\n",
    "                            parse_only=bs4.SoupStrainer(\n",
    "                                class_=(\"headlineStack top-headlines\")\n",
    "                                                        )\n",
    "                                        )\n",
    "                      )\n",
    "#ssl verification 에러 방지를 위한 코드\n",
    "loader.requests_kwargs = {'verify':False}\n",
    "data = loader.load()\n",
    "data"
   ]
  },
  {
   "cell_type": "code",
   "execution_count": 15,
   "id": "95f08c14-bde3-4c6f-8fd4-28f87fa4fca1",
   "metadata": {
    "id": "95f08c14-bde3-4c6f-8fd4-28f87fa4fca1"
   },
   "outputs": [
    {
     "data": {
      "text/plain": [
       "[Document(metadata={'source': 'https://www.espn.com/', 'title': 'ESPN - Serving Sports Fans. Anytime. Anywhere.', 'description': 'Visit ESPN for live scores, highlights and sports news. Stream exclusive games on ESPN+ and play fantasy sports.', 'language': 'en'}, page_content=\"\\n\\n\\n\\n\\n\\n\\n\\n\\nESPN - Serving Sports Fans. Anytime. Anywhere.\\n\\n\\n\\n\\n\\n\\n\\n\\n\\n\\n\\n\\n\\n\\n\\n\\n\\n\\n\\n\\n\\n\\n\\n\\n\\n\\n\\n\\n\\n\\n\\n\\n\\n\\n\\n\\n\\n\\n\\n\\n\\n\\n\\n\\n\\n\\n\\n\\n\\n\\n\\n\\n\\n\\n\\n\\n\\n\\n\\n\\n\\n\\n\\n\\n\\n\\n\\n\\n\\n\\n\\n\\n\\n\\n\\n\\n\\n\\n\\n\\n\\n\\n\\n\\n\\n\\n\\n\\n\\n\\n\\n\\n\\n        Skip to main content\\n    \\n\\n        Skip to navigation\\n    \\n\\n\\n\\n\\n\\n\\n\\n\\n\\n\\n\\n\\n\\n\\n\\n\\n\\n\\n\\n\\n\\n\\n\\n\\n\\n\\n\\n\\n\\n\\n\\n\\n\\n<\\n\\n>\\n\\n\\n\\n\\n\\n\\n\\n\\n\\nMenuESPN\\n\\n\\n\\n\\n\\nscores\\n\\n\\n\\nNFLNBANHLMLBWNBASoccerMMAMore SportsBoxingNCAACricketF1GamingGolfHorseLLWSNASCARNLLNBA G LeagueNBA Summer LeagueNCAAFNCAAMNCAAWNWSLOlympicsPLLProfessional WrestlingRacingRN BBRN FBRugbySports BettingTennisTGLUFLX GamesEditionsFantasyWatchESPN BETESPN+\\n\\n\\n\\n\\n\\n\\n\\n\\n\\n\\n\\n\\n\\n\\n\\n  \\n\\nSubscribe Now\\n\\n\\n\\n\\n\\nThe Ultimate Fighter\\n\\n\\n\\n\\n\\n\\n\\nUFC 317: Topuria vs. Oliveira (Jun. 28, PPV)\\n\\n\\nQuick Links\\n\\n\\n\\n\\nNCAA Baseball Tournament\\n\\n\\n\\n\\n\\n\\n\\nNBA Playoffs\\n\\n\\n\\n\\n\\n\\n\\nNBA Draft\\n\\n\\n\\n\\n\\n\\n\\nWNBA Season Schedule\\n\\n\\n\\n\\n\\n\\n\\nWhere To Watch\\n\\n\\n\\n\\n\\n\\n\\nToday's Top Odds\\n\\n\\n\\n\\n\\n\\n\\nESPN Radio: Listen Live\\n\\n\\n\\n\\n\\n\\nFavorites\\n\\n\\n\\n\\n\\n\\n      Manage Favorites\\n      \\n\\n\\n\\nCustomize ESPNCreate AccountLog InFantasy\\n\\n\\n\\n\\nFootball\\n\\n\\n\\n\\n\\n\\n\\nBaseball\\n\\n\\n\\n\\n\\n\\n\\nHockey\\n\\n\\n\\n\\n\\n\\n\\nMen's Basketball\\n\\n\\n\\n\\n\\n\\n\\nWomen's Basketball\\n\\n\\nESPN Sites\\n\\n\\n\\n\\nESPN Deportes\\n\\n\\n\\n\\n\\n\\n\\nAndscape\\n\\n\\n\\n\\n\\n\\n\\nespnW\\n\\n\\n\\n\\n\\n\\n\\nESPNFC\\n\\n\\n\\n\\n\\n\\n\\nX Games\\n\\n\\n\\n\\n\\n\\n\\nSEC Network\\n\\n\\nESPN Apps\\n\\n\\n\\n\\nESPN\\n\\n\\n\\n\\n\\n\\n\\nESPN Fantasy\\n\\n\\n\\n\\n\\n\\n\\nTournament Challenge\\n\\n\\nFollow ESPN\\n\\n\\n\\n\\nFacebook\\n\\n\\n\\n\\n\\n\\n\\nX/Twitter\\n\\n\\n\\n\\n\\n\\n\\nInstagram\\n\\n\\n\\n\\n\\n\\n\\nSnapchat\\n\\n\\n\\n\\n\\n\\n\\nTikTok\\n\\n\\n\\n\\n\\n\\n\\nYouTube\\n\\n\\nNew NBA mock draft, two days before Round 1: Latest buzz on the chaotic top-10 picksWill the 76ers, Hornets and Jazz take best-player-available approaches? We project both rounds of the NBA draft.16hJonathan Givony and Jeremy WooESPN IllustrationOur one-stop shop for the 2025 NBA draft: Mocks, order and big questionsWe have everything you need to know about the 2025 NBA draft.16hESPN staffğŸš¨ Final big board for the top 100 prospectsğŸ“‹ Full draft orderTOP HEADLINESPadres' Tatis sues BLA to void future earnings dealSources: Mavs to extend Gafford on $60M dealPacers confirm Haliburton has torn Achilles5-year sentence sought for Franco; verdict Thu.Sources: Wiz's Middleton picks up $33.3M optionReds DFA Candelario halfway through $45M deal'We are Vegas' team': A's begin building stadiumAlex Telles: Botafogo not in U.S. just to 'see Mickey'ğŸ”� Redrafting MLB draft top-10 picks, 2015-242025 FIFA Club World CupFollow live: Mauricio scores equalizer in the 87th minute vs. Miami2mRich Storry - FIFA/FIFA via Getty ImagesğŸ�† How teams can qualify for the last 16âš½ Messi tracker: All goals, assists, key moments for MiamiWhy this Thunder big 3 might be the one to start a dynasty11hRamona ShelburneMLB SCOREBOARDğŸ“… Complete scoreboardâ¬†â¬‡ StandingsWHO MADE THE BEST CHOICES?Redrafting the top 10 picks in every MLB draft from 2015 to 2024Witt over Rutschman? Does Skenes still go No. 1? Let's go back in time to right the wrongs of the past 10 MLB drafts.16hDavid SchoenfieldJoe Nicholson-Imagn ImagesLOOKING AHEADOur early 2025-26 NBA Power Rankings: Stacking all 30 teamsLet's see where all 30 teams stand in the NBA Power Rankings ahead of the 2025-26 season.1dESPNESPN IllustrationHow close is your team to an NBA title? We tiered all 30 franchisesWhile the world watched the Finals, the league's hierarchy shifted. Is OKC already looking over its shoulder ?12hTim BontempsğŸ“° Free agency: Latest signings, news, buzz, reportsğŸ“ŒOffseason priorities for every teamHALIBURTON TEARS ACHILLESFantasy: How Haliburton's injury impacts PacersMore will be expected from players like Andrew Nembhard, Pascal Siakam and Bennedict Mathurin.7hEric MoodyKD HEADED TO HOUSTONGrading the deal: Houston goes all-in, but did Phoenix get enough?The Suns and Rockets have agreed to a deal that lands Kevin Durant in Houston. Which side won the trade?1dESPNJoe Camporeale-USA TODAY SportsğŸ”® Trade effect on fantasy, betting landscapeFINALIZING ROUND OF 16Atletico Madrid are first big Club World Cup exit: updatesAtletico Madrid's campaign came to a quiet end even with a win over Botafogo, making them the first big team to go home early. Here's what you need to know from Monday's Club World Cup action.3hMultiple ContributorsAlex Pantling - FIFA/FIFA via Getty ImagesğŸ�† Who will wrap up round of 16? Top HeadlinesPadres' Tatis sues BLA to void future earnings dealSources: Mavs to extend Gafford on $60M dealPacers confirm Haliburton has torn Achilles5-year sentence sought for Franco; verdict Thu.Sources: Wiz's Middleton picks up $33.3M optionReds DFA Candelario halfway through $45M deal'We are Vegas' team': A's begin building stadiumAlex Telles: Botafogo not in U.S. just to 'see Mickey'ğŸ”� Redrafting MLB draft top-10 picks, 2015-24Favorites FantasyManage FavoritesFantasy HomeCustomize ESPNCreate AccountLog InICYMI1:06Kevin Durant finds out about trade to RocketsKevin Durant finds out about being traded to the Houston Rockets during a live appearance at Fanatics Fest. Trending NowFrank Franklin II/APNBA offseason 2025: Celtics' financial crunch and 3 trade offersThe Celtics face an offseason of uncertainty. Here are their options ahead of the draft, including three big trades.AP Photo/Godofredo A. VÃƒsquezHow the Red Sox-Rafael Devers breakup got so messyAs Devers prepares to play against his former team, a look inside the clubhouse culture that helped cause the divorce.ESPNNFL All Quarter Century team: Best 53-man roster, coachesIn honor of hitting the quarter-century mark, we built a 53-man roster of the best NFL players from the past 25 years. Who makes the team?ESPNCollege football's 10 most unbreakable recordsA look at the marks that have stood the test of time -- and most likely always will.Alexander Tamargo/Getty Images for E11EVENPanthers' Brad Marchand's eventful run with Stanley CupThe Florida Panthers' Stanley Cup win caused for an eventful wave of celebration from the center. Sign up to play the #1 Fantasy game!Create A LeagueJoin Public LeagueReactivate A LeagueMock Draft NowSign up to play the #1 Fantasy Baseball GameReactivate A LeagueCreate A LeagueJoin a Public LeaguePractice With a Mock DraftSign up for FREE!Reactivate A LeagueCreate A LeagueJoin a Public LeaguePractice With a Mock DraftESPN+ on Disney+Mike Windle/Getty Images for ESPNHow to watch ESPN+ on Disney+: Frequently asked questionsESPN+ is available on Disney+. Check out how to watch NHL, MLB, Pat McAfee, 30 for 30s and other exciting events now. Get a custom ESPN experienceEnjoy the benefits of a personalized accountSelect your favorite leagues, teams and players and get the latest scores, news and updates that matter most to you. \\n\\nESPN+\\n\\n\\n\\n\\nThe Ultimate Fighter\\n\\n\\n\\n\\n\\n\\n\\nUFC 317: Topuria vs. Oliveira (Jun. 28, PPV)\\n\\n\\nQuick Links\\n\\n\\n\\n\\nNCAA Baseball Tournament\\n\\n\\n\\n\\n\\n\\n\\nNBA Playoffs\\n\\n\\n\\n\\n\\n\\n\\nNBA Draft\\n\\n\\n\\n\\n\\n\\n\\nWNBA Season Schedule\\n\\n\\n\\n\\n\\n\\n\\nWhere To Watch\\n\\n\\n\\n\\n\\n\\n\\nToday's Top Odds\\n\\n\\n\\n\\n\\n\\n\\nESPN Radio: Listen Live\\n\\n\\nFantasy\\n\\n\\n\\n\\nFootball\\n\\n\\n\\n\\n\\n\\n\\nBaseball\\n\\n\\n\\n\\n\\n\\n\\nHockey\\n\\n\\n\\n\\n\\n\\n\\nMen's Basketball\\n\\n\\n\\n\\n\\n\\n\\nWomen's Basketball\\n\\n\\nESPN Sites\\n\\n\\n\\n\\nESPN Deportes\\n\\n\\n\\n\\n\\n\\n\\nAndscape\\n\\n\\n\\n\\n\\n\\n\\nespnW\\n\\n\\n\\n\\n\\n\\n\\nESPNFC\\n\\n\\n\\n\\n\\n\\n\\nX Games\\n\\n\\n\\n\\n\\n\\n\\nSEC Network\\n\\n\\nESPN Apps\\n\\n\\n\\n\\nESPN\\n\\n\\n\\n\\n\\n\\n\\nESPN Fantasy\\n\\n\\n\\n\\n\\n\\n\\nTournament Challenge\\n\\n\\nFollow ESPN\\n\\n\\n\\n\\nFacebook\\n\\n\\n\\n\\n\\n\\n\\nX/Twitter\\n\\n\\n\\n\\n\\n\\n\\nInstagram\\n\\n\\n\\n\\n\\n\\n\\nSnapchat\\n\\n\\n\\n\\n\\n\\n\\nTikTok\\n\\n\\n\\n\\n\\n\\n\\nYouTube\\n\\n\\nTerms of UsePrivacy PolicyInterest-Based AdsÂ© ESPN Enterprises, Inc. All rights reserved.\\n\\n\\n\\n\\n\\n\\n\\n\\n\\n\\n\\n\\n\\n\\n\\n\\n\\n\"),\n",
       " Document(metadata={'source': 'https://google.com', 'title': 'Google', 'language': 'ko'}, page_content='Google검색 이미지 지도 Play YouTube 뉴스 Gmail 드라이브 더보기 »웹 기록 | 설정 | 로그인\\xa0고급검색Google 지원 언어:  English 광고비즈니스 솔루션Google 정보Google.co.kr© 2025 - 개인정보처리방침 - 약관')]"
      ]
     },
     "execution_count": 15,
     "metadata": {},
     "output_type": "execute_result"
    }
   ],
   "source": [
    "loader = WebBaseLoader([\"https://www.espn.com/\", \"https://google.com\"])\n",
    "docs = loader.load()\n",
    "docs"
   ]
  },
  {
   "cell_type": "markdown",
   "id": "55e9f86b-fabb-4f78-9a0c-eb6062e3b25f",
   "metadata": {
    "id": "55e9f86b-fabb-4f78-9a0c-eb6062e3b25f"
   },
   "source": [
    "## **특정 경로 내의 모든 파일 불러오기, DirectoryLoader**"
   ]
  },
  {
   "cell_type": "code",
   "execution_count": 21,
   "id": "13acb1f0-5d4e-4f93-a09c-c58f4322e6fc",
   "metadata": {},
   "outputs": [
    {
     "name": "stdout",
     "output_type": "stream",
     "text": [
      "Requirement already satisfied: unstructured[pdf] in c:\\users\\juwonhee\\anaconda3\\lib\\site-packages (0.17.2)\n",
      "Requirement already satisfied: chardet in c:\\users\\juwonhee\\anaconda3\\lib\\site-packages (from unstructured[pdf]) (3.0.4)\n",
      "Requirement already satisfied: filetype in c:\\users\\juwonhee\\anaconda3\\lib\\site-packages (from unstructured[pdf]) (1.2.0)\n",
      "Requirement already satisfied: python-magic in c:\\users\\juwonhee\\anaconda3\\lib\\site-packages (from unstructured[pdf]) (0.4.27)\n",
      "Requirement already satisfied: lxml in c:\\users\\juwonhee\\anaconda3\\lib\\site-packages (from unstructured[pdf]) (5.2.1)\n",
      "Requirement already satisfied: nltk in c:\\users\\juwonhee\\anaconda3\\lib\\site-packages (from unstructured[pdf]) (3.9.1)\n",
      "Requirement already satisfied: requests in c:\\users\\juwonhee\\anaconda3\\lib\\site-packages (from unstructured[pdf]) (2.32.3)\n",
      "Requirement already satisfied: beautifulsoup4 in c:\\users\\juwonhee\\anaconda3\\lib\\site-packages (from unstructured[pdf]) (4.12.3)\n",
      "Requirement already satisfied: emoji in c:\\users\\juwonhee\\anaconda3\\lib\\site-packages (from unstructured[pdf]) (2.14.1)\n",
      "Requirement already satisfied: dataclasses-json in c:\\users\\juwonhee\\anaconda3\\lib\\site-packages (from unstructured[pdf]) (0.6.7)\n",
      "Requirement already satisfied: python-iso639 in c:\\users\\juwonhee\\anaconda3\\lib\\site-packages (from unstructured[pdf]) (2025.2.18)\n",
      "Requirement already satisfied: langdetect in c:\\users\\juwonhee\\anaconda3\\lib\\site-packages (from unstructured[pdf]) (1.0.9)\n",
      "Requirement already satisfied: numpy in c:\\users\\juwonhee\\anaconda3\\lib\\site-packages (from unstructured[pdf]) (1.26.4)\n",
      "Requirement already satisfied: rapidfuzz in c:\\users\\juwonhee\\anaconda3\\lib\\site-packages (from unstructured[pdf]) (3.13.0)\n",
      "Requirement already satisfied: backoff in c:\\users\\juwonhee\\anaconda3\\lib\\site-packages (from unstructured[pdf]) (2.2.1)\n",
      "Requirement already satisfied: typing-extensions in c:\\users\\juwonhee\\anaconda3\\lib\\site-packages (from unstructured[pdf]) (4.14.0)\n",
      "Requirement already satisfied: unstructured-client in c:\\users\\juwonhee\\anaconda3\\lib\\site-packages (from unstructured[pdf]) (0.37.1)\n",
      "Requirement already satisfied: wrapt in c:\\users\\juwonhee\\anaconda3\\lib\\site-packages (from unstructured[pdf]) (1.14.1)\n",
      "Requirement already satisfied: tqdm in c:\\users\\juwonhee\\anaconda3\\lib\\site-packages (from unstructured[pdf]) (4.66.5)\n",
      "Requirement already satisfied: psutil in c:\\users\\juwonhee\\anaconda3\\lib\\site-packages (from unstructured[pdf]) (5.9.0)\n",
      "Requirement already satisfied: python-oxmsg in c:\\users\\juwonhee\\anaconda3\\lib\\site-packages (from unstructured[pdf]) (0.0.2)\n",
      "Requirement already satisfied: html5lib in c:\\users\\juwonhee\\anaconda3\\lib\\site-packages (from unstructured[pdf]) (1.1)\n",
      "Requirement already satisfied: onnx>=1.17.0 in c:\\users\\juwonhee\\anaconda3\\lib\\site-packages (from unstructured[pdf]) (1.18.0)\n",
      "Requirement already satisfied: onnxruntime>=1.19.0 in c:\\users\\juwonhee\\anaconda3\\lib\\site-packages (from unstructured[pdf]) (1.22.0)\n",
      "Requirement already satisfied: pdf2image in c:\\users\\juwonhee\\anaconda3\\lib\\site-packages (from unstructured[pdf]) (1.17.0)\n",
      "Requirement already satisfied: pdfminer.six in c:\\users\\juwonhee\\anaconda3\\lib\\site-packages (from unstructured[pdf]) (20250506)\n",
      "Requirement already satisfied: pikepdf in c:\\users\\juwonhee\\anaconda3\\lib\\site-packages (from unstructured[pdf]) (9.9.0)\n",
      "Requirement already satisfied: pi-heif in c:\\users\\juwonhee\\anaconda3\\lib\\site-packages (from unstructured[pdf]) (0.22.0)\n",
      "Requirement already satisfied: pypdf in c:\\users\\juwonhee\\anaconda3\\lib\\site-packages (from unstructured[pdf]) (5.6.1)\n",
      "Requirement already satisfied: google-cloud-vision in c:\\users\\juwonhee\\anaconda3\\lib\\site-packages (from unstructured[pdf]) (3.10.2)\n",
      "Requirement already satisfied: effdet in c:\\users\\juwonhee\\anaconda3\\lib\\site-packages (from unstructured[pdf]) (0.4.1)\n",
      "Requirement already satisfied: unstructured-inference>=0.8.10 in c:\\users\\juwonhee\\anaconda3\\lib\\site-packages (from unstructured[pdf]) (1.0.5)\n",
      "Requirement already satisfied: unstructured.pytesseract>=0.3.12 in c:\\users\\juwonhee\\anaconda3\\lib\\site-packages (from unstructured[pdf]) (0.3.15)\n",
      "Requirement already satisfied: protobuf>=4.25.1 in c:\\users\\juwonhee\\anaconda3\\lib\\site-packages (from onnx>=1.17.0->unstructured[pdf]) (6.31.1)\n",
      "Requirement already satisfied: coloredlogs in c:\\users\\juwonhee\\anaconda3\\lib\\site-packages (from onnxruntime>=1.19.0->unstructured[pdf]) (15.0.1)\n",
      "Requirement already satisfied: flatbuffers in c:\\users\\juwonhee\\anaconda3\\lib\\site-packages (from onnxruntime>=1.19.0->unstructured[pdf]) (25.2.10)\n",
      "Requirement already satisfied: packaging in c:\\users\\juwonhee\\anaconda3\\lib\\site-packages (from onnxruntime>=1.19.0->unstructured[pdf]) (24.1)\n",
      "Requirement already satisfied: sympy in c:\\users\\juwonhee\\anaconda3\\lib\\site-packages (from onnxruntime>=1.19.0->unstructured[pdf]) (1.14.0)\n",
      "Requirement already satisfied: python-multipart in c:\\users\\juwonhee\\anaconda3\\lib\\site-packages (from unstructured-inference>=0.8.10->unstructured[pdf]) (0.0.20)\n",
      "Requirement already satisfied: huggingface-hub in c:\\users\\juwonhee\\anaconda3\\lib\\site-packages (from unstructured-inference>=0.8.10->unstructured[pdf]) (0.33.0)\n",
      "Requirement already satisfied: opencv-python!=4.7.0.68 in c:\\users\\juwonhee\\anaconda3\\lib\\site-packages (from unstructured-inference>=0.8.10->unstructured[pdf]) (4.11.0.86)\n",
      "Requirement already satisfied: matplotlib in c:\\users\\juwonhee\\anaconda3\\lib\\site-packages (from unstructured-inference>=0.8.10->unstructured[pdf]) (3.9.2)\n",
      "Requirement already satisfied: torch in c:\\users\\juwonhee\\anaconda3\\lib\\site-packages (from unstructured-inference>=0.8.10->unstructured[pdf]) (2.7.1)\n",
      "Requirement already satisfied: timm in c:\\users\\juwonhee\\anaconda3\\lib\\site-packages (from unstructured-inference>=0.8.10->unstructured[pdf]) (1.0.15)\n",
      "Requirement already satisfied: transformers>=4.25.1 in c:\\users\\juwonhee\\anaconda3\\lib\\site-packages (from unstructured-inference>=0.8.10->unstructured[pdf]) (4.52.4)\n",
      "Requirement already satisfied: accelerate in c:\\users\\juwonhee\\anaconda3\\lib\\site-packages (from unstructured-inference>=0.8.10->unstructured[pdf]) (1.8.1)\n",
      "Requirement already satisfied: pandas in c:\\users\\juwonhee\\anaconda3\\lib\\site-packages (from unstructured-inference>=0.8.10->unstructured[pdf]) (2.2.2)\n",
      "Requirement already satisfied: scipy in c:\\users\\juwonhee\\anaconda3\\lib\\site-packages (from unstructured-inference>=0.8.10->unstructured[pdf]) (1.15.3)\n",
      "Requirement already satisfied: pypdfium2 in c:\\users\\juwonhee\\anaconda3\\lib\\site-packages (from unstructured-inference>=0.8.10->unstructured[pdf]) (4.30.1)\n",
      "Requirement already satisfied: Pillow>=8.0.0 in c:\\users\\juwonhee\\anaconda3\\lib\\site-packages (from unstructured.pytesseract>=0.3.12->unstructured[pdf]) (10.4.0)\n",
      "Requirement already satisfied: soupsieve>1.2 in c:\\users\\juwonhee\\anaconda3\\lib\\site-packages (from beautifulsoup4->unstructured[pdf]) (2.5)\n",
      "Requirement already satisfied: marshmallow<4.0.0,>=3.18.0 in c:\\users\\juwonhee\\anaconda3\\lib\\site-packages (from dataclasses-json->unstructured[pdf]) (3.26.1)\n",
      "Requirement already satisfied: typing-inspect<1,>=0.4.0 in c:\\users\\juwonhee\\anaconda3\\lib\\site-packages (from dataclasses-json->unstructured[pdf]) (0.9.0)\n",
      "Requirement already satisfied: torchvision in c:\\users\\juwonhee\\anaconda3\\lib\\site-packages (from effdet->unstructured[pdf]) (0.22.1)\n",
      "Requirement already satisfied: pycocotools>=2.0.2 in c:\\users\\juwonhee\\anaconda3\\lib\\site-packages (from effdet->unstructured[pdf]) (2.0.10)\n",
      "Requirement already satisfied: omegaconf>=2.0 in c:\\users\\juwonhee\\anaconda3\\lib\\site-packages (from effdet->unstructured[pdf]) (2.3.0)\n",
      "Requirement already satisfied: google-api-core!=2.0.*,!=2.1.*,!=2.10.*,!=2.2.*,!=2.3.*,!=2.4.*,!=2.5.*,!=2.6.*,!=2.7.*,!=2.8.*,!=2.9.*,<3.0.0,>=1.34.1 in c:\\users\\juwonhee\\anaconda3\\lib\\site-packages (from google-api-core[grpc]!=2.0.*,!=2.1.*,!=2.10.*,!=2.2.*,!=2.3.*,!=2.4.*,!=2.5.*,!=2.6.*,!=2.7.*,!=2.8.*,!=2.9.*,<3.0.0,>=1.34.1->google-cloud-vision->unstructured[pdf]) (2.25.1)\n",
      "Requirement already satisfied: google-auth!=2.24.0,!=2.25.0,<3.0.0,>=2.14.1 in c:\\users\\juwonhee\\anaconda3\\lib\\site-packages (from google-cloud-vision->unstructured[pdf]) (2.40.3)\n",
      "Requirement already satisfied: proto-plus<2.0.0,>=1.22.3 in c:\\users\\juwonhee\\anaconda3\\lib\\site-packages (from google-cloud-vision->unstructured[pdf]) (1.26.1)\n",
      "Requirement already satisfied: six>=1.9 in c:\\users\\juwonhee\\anaconda3\\lib\\site-packages (from html5lib->unstructured[pdf]) (1.16.0)\n",
      "Requirement already satisfied: webencodings in c:\\users\\juwonhee\\anaconda3\\lib\\site-packages (from html5lib->unstructured[pdf]) (0.5.1)\n",
      "Requirement already satisfied: click in c:\\users\\juwonhee\\anaconda3\\lib\\site-packages (from nltk->unstructured[pdf]) (8.1.7)\n",
      "Requirement already satisfied: joblib in c:\\users\\juwonhee\\anaconda3\\lib\\site-packages (from nltk->unstructured[pdf]) (1.4.2)\n",
      "Requirement already satisfied: regex>=2021.8.3 in c:\\users\\juwonhee\\anaconda3\\lib\\site-packages (from nltk->unstructured[pdf]) (2024.9.11)\n",
      "Requirement already satisfied: charset-normalizer>=2.0.0 in c:\\users\\juwonhee\\anaconda3\\lib\\site-packages (from pdfminer.six->unstructured[pdf]) (3.3.2)\n",
      "Requirement already satisfied: cryptography>=36.0.0 in c:\\users\\juwonhee\\anaconda3\\lib\\site-packages (from pdfminer.six->unstructured[pdf]) (43.0.0)\n",
      "Requirement already satisfied: Deprecated in c:\\users\\juwonhee\\anaconda3\\lib\\site-packages (from pikepdf->unstructured[pdf]) (1.2.18)\n",
      "Requirement already satisfied: olefile in c:\\users\\juwonhee\\anaconda3\\lib\\site-packages (from python-oxmsg->unstructured[pdf]) (0.47)\n",
      "Requirement already satisfied: idna<4,>=2.5 in c:\\users\\juwonhee\\anaconda3\\lib\\site-packages (from requests->unstructured[pdf]) (2.10)\n",
      "Requirement already satisfied: urllib3<3,>=1.21.1 in c:\\users\\juwonhee\\anaconda3\\lib\\site-packages (from requests->unstructured[pdf]) (2.2.3)\n",
      "Requirement already satisfied: certifi>=2017.4.17 in c:\\users\\juwonhee\\anaconda3\\lib\\site-packages (from requests->unstructured[pdf]) (2024.8.30)\n",
      "Requirement already satisfied: colorama in c:\\users\\juwonhee\\anaconda3\\lib\\site-packages (from tqdm->unstructured[pdf]) (0.4.6)\n",
      "Requirement already satisfied: aiofiles>=24.1.0 in c:\\users\\juwonhee\\anaconda3\\lib\\site-packages (from unstructured-client->unstructured[pdf]) (24.1.0)\n",
      "Requirement already satisfied: httpx>=0.27.0 in c:\\users\\juwonhee\\anaconda3\\lib\\site-packages (from unstructured-client->unstructured[pdf]) (0.28.1)\n",
      "Requirement already satisfied: nest-asyncio>=1.6.0 in c:\\users\\juwonhee\\anaconda3\\lib\\site-packages (from unstructured-client->unstructured[pdf]) (1.6.0)\n",
      "Requirement already satisfied: pydantic>=2.11.2 in c:\\users\\juwonhee\\anaconda3\\lib\\site-packages (from unstructured-client->unstructured[pdf]) (2.11.7)\n",
      "Requirement already satisfied: requests-toolbelt>=1.0.0 in c:\\users\\juwonhee\\anaconda3\\lib\\site-packages (from unstructured-client->unstructured[pdf]) (1.0.0)\n",
      "Requirement already satisfied: cffi>=1.12 in c:\\users\\juwonhee\\anaconda3\\lib\\site-packages (from cryptography>=36.0.0->pdfminer.six->unstructured[pdf]) (1.17.1)\n",
      "Requirement already satisfied: googleapis-common-protos<2.0.0,>=1.56.2 in c:\\users\\juwonhee\\anaconda3\\lib\\site-packages (from google-api-core!=2.0.*,!=2.1.*,!=2.10.*,!=2.2.*,!=2.3.*,!=2.4.*,!=2.5.*,!=2.6.*,!=2.7.*,!=2.8.*,!=2.9.*,<3.0.0,>=1.34.1->google-api-core[grpc]!=2.0.*,!=2.1.*,!=2.10.*,!=2.2.*,!=2.3.*,!=2.4.*,!=2.5.*,!=2.6.*,!=2.7.*,!=2.8.*,!=2.9.*,<3.0.0,>=1.34.1->google-cloud-vision->unstructured[pdf]) (1.70.0)\n",
      "Requirement already satisfied: grpcio<2.0.0,>=1.33.2 in c:\\users\\juwonhee\\anaconda3\\lib\\site-packages (from google-api-core[grpc]!=2.0.*,!=2.1.*,!=2.10.*,!=2.2.*,!=2.3.*,!=2.4.*,!=2.5.*,!=2.6.*,!=2.7.*,!=2.8.*,!=2.9.*,<3.0.0,>=1.34.1->google-cloud-vision->unstructured[pdf]) (1.73.0)\n",
      "Requirement already satisfied: grpcio-status<2.0.0,>=1.33.2 in c:\\users\\juwonhee\\anaconda3\\lib\\site-packages (from google-api-core[grpc]!=2.0.*,!=2.1.*,!=2.10.*,!=2.2.*,!=2.3.*,!=2.4.*,!=2.5.*,!=2.6.*,!=2.7.*,!=2.8.*,!=2.9.*,<3.0.0,>=1.34.1->google-cloud-vision->unstructured[pdf]) (1.73.0)\n",
      "Requirement already satisfied: cachetools<6.0,>=2.0.0 in c:\\users\\juwonhee\\anaconda3\\lib\\site-packages (from google-auth!=2.24.0,!=2.25.0,<3.0.0,>=2.14.1->google-cloud-vision->unstructured[pdf]) (5.3.3)\n",
      "Requirement already satisfied: pyasn1-modules>=0.2.1 in c:\\users\\juwonhee\\anaconda3\\lib\\site-packages (from google-auth!=2.24.0,!=2.25.0,<3.0.0,>=2.14.1->google-cloud-vision->unstructured[pdf]) (0.2.8)\n",
      "Requirement already satisfied: rsa<5,>=3.1.4 in c:\\users\\juwonhee\\anaconda3\\lib\\site-packages (from google-auth!=2.24.0,!=2.25.0,<3.0.0,>=2.14.1->google-cloud-vision->unstructured[pdf]) (4.9.1)\n",
      "Requirement already satisfied: anyio in c:\\users\\juwonhee\\anaconda3\\lib\\site-packages (from httpx>=0.27.0->unstructured-client->unstructured[pdf]) (4.2.0)\n",
      "Requirement already satisfied: httpcore==1.* in c:\\users\\juwonhee\\anaconda3\\lib\\site-packages (from httpx>=0.27.0->unstructured-client->unstructured[pdf]) (1.0.9)\n",
      "Requirement already satisfied: h11>=0.16 in c:\\users\\juwonhee\\anaconda3\\lib\\site-packages (from httpcore==1.*->httpx>=0.27.0->unstructured-client->unstructured[pdf]) (0.16.0)\n",
      "Requirement already satisfied: antlr4-python3-runtime==4.9.* in c:\\users\\juwonhee\\anaconda3\\lib\\site-packages (from omegaconf>=2.0->effdet->unstructured[pdf]) (4.9.3)\n",
      "Requirement already satisfied: PyYAML>=5.1.0 in c:\\users\\juwonhee\\anaconda3\\lib\\site-packages (from omegaconf>=2.0->effdet->unstructured[pdf]) (6.0.1)\n",
      "Requirement already satisfied: annotated-types>=0.6.0 in c:\\users\\juwonhee\\anaconda3\\lib\\site-packages (from pydantic>=2.11.2->unstructured-client->unstructured[pdf]) (0.6.0)\n",
      "Requirement already satisfied: pydantic-core==2.33.2 in c:\\users\\juwonhee\\anaconda3\\lib\\site-packages (from pydantic>=2.11.2->unstructured-client->unstructured[pdf]) (2.33.2)\n",
      "Requirement already satisfied: typing-inspection>=0.4.0 in c:\\users\\juwonhee\\anaconda3\\lib\\site-packages (from pydantic>=2.11.2->unstructured-client->unstructured[pdf]) (0.4.1)\n",
      "Requirement already satisfied: safetensors in c:\\users\\juwonhee\\anaconda3\\lib\\site-packages (from timm->unstructured-inference>=0.8.10->unstructured[pdf]) (0.5.3)\n",
      "Requirement already satisfied: filelock in c:\\users\\juwonhee\\anaconda3\\lib\\site-packages (from torch->unstructured-inference>=0.8.10->unstructured[pdf]) (3.13.1)\n",
      "Requirement already satisfied: networkx in c:\\users\\juwonhee\\anaconda3\\lib\\site-packages (from torch->unstructured-inference>=0.8.10->unstructured[pdf]) (3.3)\n",
      "Requirement already satisfied: jinja2 in c:\\users\\juwonhee\\anaconda3\\lib\\site-packages (from torch->unstructured-inference>=0.8.10->unstructured[pdf]) (3.1.4)\n",
      "Requirement already satisfied: fsspec in c:\\users\\juwonhee\\anaconda3\\lib\\site-packages (from torch->unstructured-inference>=0.8.10->unstructured[pdf]) (2024.6.1)\n",
      "Requirement already satisfied: setuptools in c:\\users\\juwonhee\\anaconda3\\lib\\site-packages (from torch->unstructured-inference>=0.8.10->unstructured[pdf]) (75.1.0)\n",
      "Requirement already satisfied: mpmath<1.4,>=1.1.0 in c:\\users\\juwonhee\\anaconda3\\lib\\site-packages (from sympy->onnxruntime>=1.19.0->unstructured[pdf]) (1.3.0)\n",
      "Requirement already satisfied: tokenizers<0.22,>=0.21 in c:\\users\\juwonhee\\anaconda3\\lib\\site-packages (from transformers>=4.25.1->unstructured-inference>=0.8.10->unstructured[pdf]) (0.21.1)\n",
      "Requirement already satisfied: mypy-extensions>=0.3.0 in c:\\users\\juwonhee\\anaconda3\\lib\\site-packages (from typing-inspect<1,>=0.4.0->dataclasses-json->unstructured[pdf]) (1.0.0)\n",
      "Requirement already satisfied: humanfriendly>=9.1 in c:\\users\\juwonhee\\anaconda3\\lib\\site-packages (from coloredlogs->onnxruntime>=1.19.0->unstructured[pdf]) (10.0)\n",
      "Requirement already satisfied: contourpy>=1.0.1 in c:\\users\\juwonhee\\anaconda3\\lib\\site-packages (from matplotlib->unstructured-inference>=0.8.10->unstructured[pdf]) (1.2.0)\n",
      "Requirement already satisfied: cycler>=0.10 in c:\\users\\juwonhee\\anaconda3\\lib\\site-packages (from matplotlib->unstructured-inference>=0.8.10->unstructured[pdf]) (0.11.0)\n",
      "Requirement already satisfied: fonttools>=4.22.0 in c:\\users\\juwonhee\\anaconda3\\lib\\site-packages (from matplotlib->unstructured-inference>=0.8.10->unstructured[pdf]) (4.51.0)\n",
      "Requirement already satisfied: kiwisolver>=1.3.1 in c:\\users\\juwonhee\\anaconda3\\lib\\site-packages (from matplotlib->unstructured-inference>=0.8.10->unstructured[pdf]) (1.4.4)\n",
      "Requirement already satisfied: pyparsing>=2.3.1 in c:\\users\\juwonhee\\anaconda3\\lib\\site-packages (from matplotlib->unstructured-inference>=0.8.10->unstructured[pdf]) (3.1.2)\n",
      "Requirement already satisfied: python-dateutil>=2.7 in c:\\users\\juwonhee\\anaconda3\\lib\\site-packages (from matplotlib->unstructured-inference>=0.8.10->unstructured[pdf]) (2.9.0.post0)\n",
      "Requirement already satisfied: pytz>=2020.1 in c:\\users\\juwonhee\\anaconda3\\lib\\site-packages (from pandas->unstructured-inference>=0.8.10->unstructured[pdf]) (2024.1)\n",
      "Requirement already satisfied: tzdata>=2022.7 in c:\\users\\juwonhee\\anaconda3\\lib\\site-packages (from pandas->unstructured-inference>=0.8.10->unstructured[pdf]) (2023.3)\n",
      "Requirement already satisfied: pycparser in c:\\users\\juwonhee\\anaconda3\\lib\\site-packages (from cffi>=1.12->cryptography>=36.0.0->pdfminer.six->unstructured[pdf]) (2.21)\n",
      "Requirement already satisfied: pyreadline3 in c:\\users\\juwonhee\\anaconda3\\lib\\site-packages (from humanfriendly>=9.1->coloredlogs->onnxruntime>=1.19.0->unstructured[pdf]) (3.5.4)\n",
      "Requirement already satisfied: pyasn1<0.5.0,>=0.4.6 in c:\\users\\juwonhee\\anaconda3\\lib\\site-packages (from pyasn1-modules>=0.2.1->google-auth!=2.24.0,!=2.25.0,<3.0.0,>=2.14.1->google-cloud-vision->unstructured[pdf]) (0.4.8)\n",
      "Requirement already satisfied: sniffio>=1.1 in c:\\users\\juwonhee\\anaconda3\\lib\\site-packages (from anyio->httpx>=0.27.0->unstructured-client->unstructured[pdf]) (1.3.0)\n",
      "Requirement already satisfied: MarkupSafe>=2.0 in c:\\users\\juwonhee\\anaconda3\\lib\\site-packages (from jinja2->torch->unstructured-inference>=0.8.10->unstructured[pdf]) (2.1.3)\n"
     ]
    }
   ],
   "source": [
    "import sys\n",
    "!{sys.executable} -m pip install \"unstructured[pdf]\""
   ]
  },
  {
   "cell_type": "code",
   "execution_count": 22,
   "id": "01244f3a-eb10-44bf-ab99-fd539eaa1f2a",
   "metadata": {
    "id": "01244f3a-eb10-44bf-ab99-fd539eaa1f2a"
   },
   "outputs": [
    {
     "data": {
      "text/plain": [
       "['..\\\\data\\\\BOK 이슈노트 제2022-38호 인공지능 언어모형을 이용한 인플레이션 어조지수 개발 및 시사점.pdf',\n",
       " '..\\\\data\\\\Transformer_paper.pdf',\n",
       " '..\\\\data\\\\[이슈리포트 2022-2호] 혁신성장 정책금융 동향.pdf',\n",
       " '..\\\\data\\\\★육아휴직제도 사용안내서_배포.pdf',\n",
       " '..\\\\data\\\\대한민국헌법(헌법)(제00010호)(19880225).pdf']"
      ]
     },
     "execution_count": 22,
     "metadata": {},
     "output_type": "execute_result"
    }
   ],
   "source": [
    "from langchain_community.document_loaders import DirectoryLoader\n",
    "#첫번째 매개변수로 경로 입력, glob에 해당 경로에서 불러들일 파일의 형식 지정\n",
    "#*는 모든 문자를 표현하는 와일드카드로, .pdf로 끝나는 모든 파일을 의미함\n",
    "loader = DirectoryLoader(r'../data/', glob=\"*.pdf\")\n",
    "docs = loader.load()\n",
    "[i.metadata['source'] for i in docs]"
   ]
  },
  {
   "cell_type": "markdown",
   "id": "f77c730e-4e16-44d6-ab8c-8029fc87517c",
   "metadata": {},
   "source": [
    "document를 객체화하여 가져올 수 있다."
   ]
  },
  {
   "cell_type": "code",
   "execution_count": null,
   "id": "400f12e7-eca3-4a35-8ee5-848aa61291a9",
   "metadata": {},
   "outputs": [],
   "source": []
  }
 ],
 "metadata": {
  "colab": {
   "provenance": []
  },
  "kernelspec": {
   "display_name": "Python 3 (ipykernel)",
   "language": "python",
   "name": "python3"
  },
  "language_info": {
   "codemirror_mode": {
    "name": "ipython",
    "version": 3
   },
   "file_extension": ".py",
   "mimetype": "text/x-python",
   "name": "python",
   "nbconvert_exporter": "python",
   "pygments_lexer": "ipython3",
   "version": "3.12.7"
  }
 },
 "nbformat": 4,
 "nbformat_minor": 5
}
